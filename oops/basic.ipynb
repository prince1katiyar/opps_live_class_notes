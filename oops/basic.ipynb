{
 "cells": [
  {
   "cell_type": "code",
   "execution_count": 51,
   "metadata": {},
   "outputs": [
    {
     "ename": "AttributeError",
     "evalue": "'list' object has no attribute 'capatlize'",
     "output_type": "error",
     "traceback": [
      "\u001b[0;31m---------------------------------------------------------------------------\u001b[0m",
      "\u001b[0;31mAttributeError\u001b[0m                            Traceback (most recent call last)",
      "Cell \u001b[0;32mIn[51], line 2\u001b[0m\n\u001b[1;32m      1\u001b[0m l\u001b[38;5;241m=\u001b[39m[\u001b[38;5;124m\"\u001b[39m\u001b[38;5;124mprinc\u001b[39m\u001b[38;5;124m\"\u001b[39m,\u001b[38;5;124m\"\u001b[39m\u001b[38;5;124makash\u001b[39m\u001b[38;5;124m\"\u001b[39m,\u001b[38;5;124m\"\u001b[39m\u001b[38;5;124msachin\u001b[39m\u001b[38;5;124m\"\u001b[39m]\n\u001b[0;32m----> 2\u001b[0m l\u001b[38;5;241m.\u001b[39mcapatlize()\n\u001b[1;32m      3\u001b[0m \u001b[38;5;28mprint\u001b[39m(\u001b[38;5;28mtype\u001b[39m(l))\n",
      "\u001b[0;31mAttributeError\u001b[0m: 'list' object has no attribute 'capatlize'"
     ]
    }
   ],
   "source": [
    "l=[\"princ\",\"akash\",\"sachin\"]\n",
    "l.capatlize()\n",
    "print(type(l))\n"
   ]
  },
  {
   "cell_type": "code",
   "execution_count": 76,
   "metadata": {},
   "outputs": [],
   "source": [
    "import logging \n",
    "\n",
    "\n",
    "logging.basicConfig(filename='app.log',level=logging.DEBUG ,\n",
    "                    format= '%(name)s-%(asctime)s-%(levelname)s-%(message)s',force=True)\n",
    "\n",
    "file_handler = logging.FileHandler('app.log')\n",
    "file_handler.setLevel(logging.DEBUG)\n",
    "formatter= logging.Formatter('%(name)s-%(asctime)s-%(levelname)s-%(message)s')\n",
    "file_handler.setFormatter(formatter)\n",
    "\n",
    "logging.getLogger('').addHandler(file_handler)\n",
    "logging.info(\"this is my main log\")\n",
    "logger1 = logging.getLogger('user1')\n",
    "logger2 = logging.getLogger('user2')\n",
    "logger1.info(\"this is my first messge through user11 \")\n",
    "logger2.debug(\"this is my second messge through user2 \")"
   ]
  },
  {
   "cell_type": "code",
   "execution_count": 52,
   "metadata": {},
   "outputs": [
    {
     "name": "stdout",
     "output_type": "stream",
     "text": [
      "<class 'list'>\n"
     ]
    }
   ],
   "source": [
    "print(type(l))\n",
    "l."
   ]
  },
  {
   "cell_type": "code",
   "execution_count": 12,
   "metadata": {},
   "outputs": [
    {
     "ename": "AttributeError",
     "evalue": "'str' object has no attribute 'pop'",
     "output_type": "error",
     "traceback": [
      "\u001b[0;31m---------------------------------------------------------------------------\u001b[0m",
      "\u001b[0;31mAttributeError\u001b[0m                            Traceback (most recent call last)",
      "Cell \u001b[0;32mIn[12], line 2\u001b[0m\n\u001b[1;32m      1\u001b[0m s \u001b[38;5;241m=\u001b[39m \u001b[38;5;124m\"\u001b[39m\u001b[38;5;124mhello\u001b[39m\u001b[38;5;124m\"\u001b[39m\n\u001b[0;32m----> 2\u001b[0m s\u001b[38;5;241m.\u001b[39mpop()\n",
      "\u001b[0;31mAttributeError\u001b[0m: 'str' object has no attribute 'pop'"
     ]
    }
   ],
   "source": [
    "s = \"hello\"\n",
    "s.pop()"
   ]
  },
  {
   "cell_type": "code",
   "execution_count": 13,
   "metadata": {},
   "outputs": [
    {
     "name": "stdout",
     "output_type": "stream",
     "text": [
      "<class 'int'>\n"
     ]
    }
   ],
   "source": [
    "a=1\n",
    "print(type(a))"
   ]
  },
  {
   "cell_type": "code",
   "execution_count": 14,
   "metadata": {},
   "outputs": [
    {
     "name": "stdout",
     "output_type": "stream",
     "text": [
      "<class 'str'>\n"
     ]
    }
   ],
   "source": [
    "s = \"hello\"\n",
    "print(type(s))"
   ]
  },
  {
   "cell_type": "code",
   "execution_count": 15,
   "metadata": {},
   "outputs": [
    {
     "name": "stdout",
     "output_type": "stream",
     "text": [
      "<class 'list'>\n"
     ]
    }
   ],
   "source": [
    "l=[\"princ\",\"akash\",\"sachin\"]\n",
    "print(type(l))"
   ]
  },
  {
   "cell_type": "code",
   "execution_count": 16,
   "metadata": {},
   "outputs": [],
   "source": [
    "# what is oops ?\n",
    "# why we should use oops instead of procedural approach ? \n",
    "# what is the advatage of using oops ?\n",
    "# what is class and what is object ?\n",
    "# why we are creating object and what it is telling ?\n",
    "# how to create class and how to create object ?\n",
    "# what things we can pass inside the class and how to pass them ?\n",
    "# what is construter ?\n",
    "# what is role of construter  in oops ?\n",
    "# do we have to call the construtor ?\n",
    "# difference bwtween fucntion and method ?\n",
    "# difference variable and attribute ?\n",
    "# why we are using construter iska apki life m ky fydaa hoga ?\n",
    "#what is use of self in class ? \n",
    "# difference between parameterised and non parameterised construtor ?\n",
    "#  how to pass data , how to assingn , how to tell that this class is belong to class ?\n",
    "# how to access the value inside the class and outside the class ?\n",
    "# what is golden rule ?\n"
   ]
  },
  {
   "cell_type": "code",
   "execution_count": null,
   "metadata": {},
   "outputs": [],
   "source": [
    "'''\n",
    "Modularity: OOP promotes modularity by organizing code into objects, which encapsulate both data and behavior. This allows developers to break down complex systems into smaller, more manageable parts. Each object can be developed, tested, and maintained independently, enhancing code reusability and scalability.\n",
    "\n",
    "Reusability: One of the fundamental principles of OOP is inheritance, which allows new classes to inherit attributes and methods from existing classes. This enables code reuse, as developers can create new classes based on existing ones, reducing redundancy and promoting a DRY (Don't Repeat Yourself) approach to programming.\n",
    "\n",
    "Encapsulation: Encapsulation refers to the bundling of data and methods that operate on that data within a single unit, called an object. By encapsulating data, OOP hides the internal workings of an object from the outside world and provides a clear interface for interacting with it. This enhances code maintainability, as changes to the internal implementation of an object do not affect other parts of the program.\n",
    "\n",
    "Abstraction: OOP allows developers to create abstract representations of real-world entities using classes and objects. Abstraction focuses on the essential properties and behaviors of an object while hiding irrelevant details. This simplifies the development process by providing a high-level view of the system and making it easier to manage complexity.\n",
    "\n",
    "Polymorphism: Polymorphism allows objects of different classes to be treated as objects of a common superclass. This enables developers to write code that can work with objects of various types without needing to know their specific classes. Polymorphism promotes flexibility and extensibility, as new classes can be added to the system without requiring changes to existing code.\n",
    "\n",
    "give \n",
    "\n",
    "'''"
   ]
  },
  {
   "cell_type": "code",
   "execution_count": null,
   "metadata": {},
   "outputs": [],
   "source": [
    "'''\n",
    "Modularity and Reusability\n",
    "Encapsulation and Information Hiding\n",
    "Inheritance and Code Reuse\n",
    "Polymorphism and Flexibility\n",
    "Abstraction and Simplification\n",
    "\n",
    "'''"
   ]
  },
  {
   "cell_type": "code",
   "execution_count": null,
   "metadata": {},
   "outputs": [],
   "source": [
    "'''\n",
    "Banking System:\n",
    "\n",
    "Classes: Account, Customer, Transaction\n",
    "Attributes: Account number, balance, customer name, transaction amount\n",
    "Methods: Deposit, Withdraw, Transfer\n",
    "Inheritance: SavingsAccount, CheckingAccount (both inherit from Account)\n",
    "Encapsulation: Hide sensitive data like account balance, and provide controlled access through methods like Deposit and Withdraw.\n",
    "'''"
   ]
  },
  {
   "cell_type": "code",
   "execution_count": null,
   "metadata": {},
   "outputs": [],
   "source": [
    "class , object , abstraction , encapsulation , polymorphism , inheritance\n"
   ]
  },
  {
   "cell_type": "code",
   "execution_count": null,
   "metadata": {},
   "outputs": [],
   "source": [
    "class : \"\"\"class in object-oriented programming is a blueprint or template for creating objects. It defines the properties (attributes) and behaviors (methods) that all objects of that class will have. \"\"\"\n"
   ]
  },
  {
   "cell_type": "code",
   "execution_count": 53,
   "metadata": {},
   "outputs": [
    {
     "name": "stdout",
     "output_type": "stream",
     "text": [
      "Account Number: 123456789\n",
      "Current Balance: $1000\n",
      "Deposit of $500 successful. New balance: $1500\n",
      "Withdrawal of $200 successful. New balance: $1300\n",
      "Account Number: 987654321\n",
      "Current Balance: $500\n",
      "Deposit of $100 successful. New balance: $600\n",
      "Insufficient funds!\n"
     ]
    }
   ],
   "source": [
    "class BankAccount:\n",
    "    def __init__(self, account_number, balance):\n",
    "        self.account_number = account_number\n",
    "        self.balance = balance\n",
    "\n",
    "    def deposit(self, amount):\n",
    "        self.balance += amount\n",
    "        print(f\"Deposit of ${amount} successful. New balance: ${self.balance}\")\n",
    "\n",
    "    def withdraw(self, amount):\n",
    "        if amount > self.balance:\n",
    "            print(\"Insufficient funds!\")\n",
    "        else:\n",
    "            self.balance -= amount\n",
    "            print(f\"Withdrawal of ${amount} successful. New balance: ${self.balance}\")\n",
    "\n",
    "    def display_balance(self):\n",
    "        print(f\"Account Number: {self.account_number}\\nCurrent Balance: ${self.balance}\")\n",
    "\n",
    "\n",
    "# Creating two bank accounts\n",
    "account1 = BankAccount(\"123456789\", 1000)\n",
    "account2 = BankAccount(\"987654321\", 500)\n",
    "\n",
    "# Depositing and withdrawing from account1\n",
    "account1.display_balance()\n",
    "account1.deposit(500)\n",
    "account1.withdraw(200)\n",
    "\n",
    "# Depositing and withdrawing from account2\n",
    "account2.display_balance()\n",
    "account2.deposit(100)\n",
    "account2.withdraw(700)\n"
   ]
  },
  {
   "cell_type": "code",
   "execution_count": null,
   "metadata": {},
   "outputs": [],
   "source": [
    "object : \"\"\"An object is an instance of a class. It represents a specific entity or concept in the real world and encapsulates both data (attributes) and behaviors (methods). Objects are created using the class as a template, and each object has its own set of attribute values\"\"\""
   ]
  },
  {
   "cell_type": "markdown",
   "metadata": {},
   "source": [
    "# why we are creating class  and object "
   ]
  },
  {
   "cell_type": "markdown",
   "metadata": {},
   "source": [
    "# how to create class and how to create object "
   ]
  },
  {
   "cell_type": "code",
   "execution_count": 17,
   "metadata": {},
   "outputs": [],
   "source": [
    "class test:\n",
    "    pass \n",
    "\n",
    "# golde rule : eerything you can use through class is through object of a class \n",
    "\n",
    "\n",
    "## when we get output when we run the class or not ?\n",
    "obj = test()\n",
    "\n"
   ]
  },
  {
   "cell_type": "code",
   "execution_count": 20,
   "metadata": {},
   "outputs": [
    {
     "name": "stdout",
     "output_type": "stream",
     "text": [
      "<class 'type'>\n",
      "<class '__main__.test'>\n"
     ]
    }
   ],
   "source": [
    "print(type(test))\n",
    "print(type(obj))"
   ]
  },
  {
   "cell_type": "code",
   "execution_count": null,
   "metadata": {},
   "outputs": [],
   "source": [
    "l =list()\n",
    "l=[]    # object literals \n",
    "obj=test()"
   ]
  },
  {
   "cell_type": "code",
   "execution_count": 72,
   "metadata": {},
   "outputs": [],
   "source": [
    "class prince:\n",
    "\n",
    "    a = 5 \n",
    "    \n",
    "    def welcome_msg(self):\n",
    "        print(\"Welcome to my classd\")"
   ]
  },
  {
   "cell_type": "markdown",
   "metadata": {},
   "source": [
    "# what thins we can store inside the class "
   ]
  },
  {
   "cell_type": "code",
   "execution_count": null,
   "metadata": {},
   "outputs": [],
   "source": []
  },
  {
   "cell_type": "code",
   "execution_count": 27,
   "metadata": {},
   "outputs": [],
   "source": [
    "# difference between attibute and variable \n",
    "# diffrence method and fucntion "
   ]
  },
  {
   "cell_type": "code",
   "execution_count": null,
   "metadata": {},
   "outputs": [],
   "source": []
  },
  {
   "cell_type": "markdown",
   "metadata": {},
   "source": [
    "# construter "
   ]
  },
  {
   "cell_type": "code",
   "execution_count": null,
   "metadata": {},
   "outputs": [],
   "source": [
    "# what happen if we donot have construter ?\n",
    "'''ArithmeticError you pass will not be automatically assigned to object instances unless you explicitly define methods to set those attributes after object creation '''"
   ]
  },
  {
   "cell_type": "code",
   "execution_count": 70,
   "metadata": {},
   "outputs": [],
   "source": [
    "class prince:\n",
    "\n",
    "    a = 5 \n",
    "    \n",
    "    def welcome_msg(self):\n",
    "        print(\"Welcome to my classd\")"
   ]
  },
  {
   "cell_type": "code",
   "execution_count": 71,
   "metadata": {},
   "outputs": [
    {
     "name": "stdout",
     "output_type": "stream",
     "text": [
      "Welcome to my classd\n"
     ]
    }
   ],
   "source": [
    "obj = prince()\n",
    "obj.welcome_msg()"
   ]
  },
  {
   "cell_type": "code",
   "execution_count": 77,
   "metadata": {},
   "outputs": [],
   "source": [
    "class Person:\n",
    "    def __init__(self, name, age):\n",
    "        self.name = name\n",
    "        self.age = age\n",
    "        print(self.age)\n",
    "        print(self.name)\n",
    "\n",
    "    \n"
   ]
  },
  {
   "cell_type": "code",
   "execution_count": 66,
   "metadata": {},
   "outputs": [
    {
     "name": "stdout",
     "output_type": "stream",
     "text": [
      "30\n",
      "john\n"
     ]
    }
   ],
   "source": [
    "a=Person(\"john\",30)"
   ]
  },
  {
   "cell_type": "code",
   "execution_count": 63,
   "metadata": {},
   "outputs": [],
   "source": [
    "class Person:\n",
    "    def __init__(self, name, age):\n",
    "        self.name = name\n",
    "        self.age = age\n",
    "        self.my()\n",
    "\n",
    "\n",
    "    def my(self):\n",
    "        print(\"this is my function \")"
   ]
  },
  {
   "cell_type": "code",
   "execution_count": 64,
   "metadata": {},
   "outputs": [
    {
     "name": "stdout",
     "output_type": "stream",
     "text": [
      "this is my function \n"
     ]
    }
   ],
   "source": [
    "a=Person(\"john\",30)\n"
   ]
  },
  {
   "cell_type": "code",
   "execution_count": 30,
   "metadata": {},
   "outputs": [],
   "source": [
    "# what is construter ?\n",
    "# what is role of construter  in oops ?\n",
    "# do we have to call the construtor ?\n",
    "#  why we are using construter iska apki life m ky fydaa hoga ?\n",
    "# difference between parameterised and non parameterised construtor ?"
   ]
  },
  {
   "cell_type": "code",
   "execution_count": null,
   "metadata": {},
   "outputs": [],
   "source": []
  },
  {
   "cell_type": "code",
   "execution_count": null,
   "metadata": {},
   "outputs": [],
   "source": []
  },
  {
   "cell_type": "code",
   "execution_count": 38,
   "metadata": {},
   "outputs": [
    {
     "name": "stdout",
     "output_type": "stream",
     "text": [
      "Non-parameterized constructor called.\n",
      "Name: John, Age: 30\n"
     ]
    }
   ],
   "source": [
    "class Person:\n",
    "    def __init__(self):\n",
    "        print(\"Non-parameterized constructor called.\")\n",
    "        self.name = \"John\"\n",
    "        self.age = 30\n",
    "\n",
    "    def display_info(self):\n",
    "        print(f\"Name: {self.name}, Age: {self.age}\")\n",
    "\n",
    "# Creating an object of the Person class\n",
    "person1 = Person()\n",
    "person1.display_info()  # Output: Name: John, Age: 30"
   ]
  },
  {
   "cell_type": "code",
   "execution_count": 36,
   "metadata": {},
   "outputs": [
    {
     "name": "stdout",
     "output_type": "stream",
     "text": [
      "Parameterized constructor called.\n",
      "Name: Alice, Age: 25\n"
     ]
    }
   ],
   "source": [
    "class Person:\n",
    "    def __init__(self, name, age):\n",
    "        print(\"Parameterized constructor called.\")\n",
    "        self.name = name\n",
    "        self.age = age\n",
    "\n",
    "    def display_info(self):\n",
    "        print(f\"Name: {self.name}, Age: {self.age}\")\n",
    "\n",
    "# Creating an object of the Person class with parameters\n",
    "person2 = Person(\"Alice\", 25)\n",
    "person2.display_info()  # Output: Name: Alice, Age: 25\n"
   ]
  },
  {
   "cell_type": "code",
   "execution_count": 37,
   "metadata": {},
   "outputs": [
    {
     "ename": "SyntaxError",
     "evalue": "incomplete input (1831335776.py, line 11)",
     "output_type": "error",
     "traceback": [
      "\u001b[0;36m  Cell \u001b[0;32mIn[37], line 11\u001b[0;36m\u001b[0m\n\u001b[0;31m    \u001b[0m\n\u001b[0m    ^\u001b[0m\n\u001b[0;31mSyntaxError\u001b[0m\u001b[0;31m:\u001b[0m incomplete input\n"
     ]
    }
   ],
   "source": [
    "class frac:\n",
    "\n",
    "    def __init__(self,x,y):\n",
    "        self.x=x\n",
    "        self.y=y\n",
    "    def __str__(self):\n",
    "        return '{}/{}'.format(self.x,self.y)\n",
    "    \n",
    "    def __add__(self,other):\n",
    "        #print(\"ider\")\n",
    "        "
   ]
  },
  {
   "cell_type": "markdown",
   "metadata": {},
   "source": [
    "# SELF \n"
   ]
  },
  {
   "cell_type": "code",
   "execution_count": null,
   "metadata": {},
   "outputs": [],
   "source": [
    "# what is use of self in class ? \n",
    "# how to pass data , how to assingn , how to tell that this class is belong to class ?\n",
    "# how to access the value inside the class and outside the class ?\n",
    "# what is golden rule ?\n",
    "\n",
    "\n",
    "\n",
    "# self is a current object   # how many obejct do we have ? two object one insdie and one outside \n",
    "# it help to access the method and variable of class\n",
    "# it fallow the rule of golden rule\n",
    "# it help to create variable of a class "
   ]
  },
  {
   "cell_type": "code",
   "execution_count": null,
   "metadata": {},
   "outputs": [],
   "source": [
    "class Person:\n",
    "    def __init__(self, name, age):\n",
    "        self.name = name  # Initialize instance variable 'name'\n",
    "        self.age = age    # Initialize instance variable 'age'\n",
    "\n",
    "    def display_info(self):\n",
    "        print(f\"Name: {self.name}, Age: {self.age}\")\n",
    "\n",
    "# Creating an object of the Person class\n",
    "person1 = Person(\"John\", 30)\n",
    "person1.display_info()  # Output: Name: John, Age: 30\n"
   ]
  },
  {
   "cell_type": "code",
   "execution_count": 74,
   "metadata": {},
   "outputs": [
    {
     "name": "stdout",
     "output_type": "stream",
     "text": [
      "Id of object reference (person1): 4442276240\n",
      "Name: John, Age: 30\n"
     ]
    },
    {
     "data": {
      "text/plain": [
       "''"
      ]
     },
     "execution_count": 74,
     "metadata": {},
     "output_type": "execute_result"
    }
   ],
   "source": [
    "\n",
    "class Person:\n",
    "    def __init__(self, name, age):\n",
    "        self.name = name\n",
    "        self.age = age\n",
    "\n",
    "    def display_info(self):\n",
    "        print(f\"Name: {self.name}, Age: {self.age}\")\n",
    "\n",
    "# Creating an object of the Person class\n",
    "person1 = Person(\"John\", 30)\n",
    "\n",
    "# Getting the id of the object reference (person1)\n",
    "print(\"Id of object reference (person1):\", id(person1))\n",
    "\n",
    "# Getting the id of the 'self' parameter inside the method\n",
    "person1.display_info()  # This will print the id of 'self' inside the method\n",
    "\n",
    "\"\"\n"
   ]
  },
  {
   "cell_type": "code",
   "execution_count": 75,
   "metadata": {},
   "outputs": [
    {
     "name": "stdout",
     "output_type": "stream",
     "text": [
      "Id of 'self' inside the method: 4442288592\n"
     ]
    }
   ],
   "source": [
    "class MyClass:\n",
    "    def __init__(self):\n",
    "        pass\n",
    "\n",
    "    def display_id(self):\n",
    "        print(\"Id of 'self' inside the method:\", id(self))\n",
    "\n",
    "# Creating an object of MyClass\n",
    "obj = MyClass()\n",
    "\n",
    "# Calling the method display_id() which prints the id of 'self'\n",
    "obj.display_id()\n"
   ]
  },
  {
   "cell_type": "code",
   "execution_count": null,
   "metadata": {},
   "outputs": [],
   "source": []
  },
  {
   "cell_type": "code",
   "execution_count": null,
   "metadata": {},
   "outputs": [],
   "source": [
    "# self is object of class \n",
    "# golder rule is ki everytihing you can use through object only .\n",
    "\n",
    "\n",
    "\n",
    "'''Accessing Attributes: Inside a method, you use self.attribute_name to access or modify the attributes of the object. This tells Python to look for the attribute within the specific instance of the class.\n",
    "\n",
    "Calling Other Methods: You use self.method_name() to call other methods of the class from within a method. Again, this ensures that the correct instance of the class is being referred to.\n",
    "\n",
    "Initializing Attributes: \n",
    "'''"
   ]
  },
  {
   "cell_type": "code",
   "execution_count": 43,
   "metadata": {},
   "outputs": [
    {
     "name": "stdout",
     "output_type": "stream",
     "text": [
      "4441509072\n",
      "Parameterized constructor called.\n",
      "Name: Alice, Age: 25\n"
     ]
    }
   ],
   "source": [
    "class Person:\n",
    "    def __init__(self, name, age):\n",
    "        print(id(self))\n",
    "        print(\"Parameterized constructor called.\")\n",
    "        self.name = name\n",
    "        self.age = age\n",
    "\n",
    "    def display_info(self):\n",
    "        print(f\"Name: {self.name}, Age: {self.age}\")\n",
    "\n",
    "# Creating an object of the Person class with parameters\n",
    "person2 = Person(\"Alice\", 25)\n",
    "person2.display_info() "
   ]
  },
  {
   "cell_type": "code",
   "execution_count": 44,
   "metadata": {},
   "outputs": [
    {
     "name": "stdout",
     "output_type": "stream",
     "text": [
      "4441509072\n"
     ]
    }
   ],
   "source": [
    "print(id(person2))"
   ]
  },
  {
   "cell_type": "code",
   "execution_count": null,
   "metadata": {},
   "outputs": [],
   "source": []
  },
  {
   "cell_type": "markdown",
   "metadata": {},
   "source": [
    " # MAGIC OR DUNDER FUNCTION "
   ]
  },
  {
   "cell_type": "code",
   "execution_count": null,
   "metadata": {},
   "outputs": [],
   "source": [
    "# what is magic method ?\n",
    "# what is dunder mthod ?\n",
    "# what is __init__ ?\n",
    "# what is __str__ ?\n",
    "# what is __add__ ?\n",
    "# what special about this magic methosf ?\n"
   ]
  },
  {
   "cell_type": "code",
   "execution_count": null,
   "metadata": {},
   "outputs": [],
   "source": [
    "'''\n",
    "magic methods, also known as dunder methods (due to their double underscore prefix and suffix), are special methods that are invoked implicitly by the Python interpreter in response to certain operations on objects. You don't need to call these magic methods directly; instead, Python will call them automatically when certain operations are performed on instances of a class\n",
    "'''\n",
    "\n",
    "'''\n",
    "Magic methods in Python are special because they provide a way to customize the behavior of objects and enable various built-in operations to be performed on instances of a class\n",
    "\n",
    "'''"
   ]
  },
  {
   "cell_type": "code",
   "execution_count": 48,
   "metadata": {},
   "outputs": [
    {
     "name": "stdout",
     "output_type": "stream",
     "text": [
      "Result of addition: 15\n"
     ]
    },
    {
     "ename": "TypeError",
     "evalue": "unsupported operand type(s) for *: 'MyClass' and 'int'",
     "output_type": "error",
     "traceback": [
      "\u001b[0;31m---------------------------------------------------------------------------\u001b[0m",
      "\u001b[0;31mTypeError\u001b[0m                                 Traceback (most recent call last)",
      "Cell \u001b[0;32mIn[48], line 20\u001b[0m\n\u001b[1;32m     17\u001b[0m \u001b[38;5;28mprint\u001b[39m(\u001b[38;5;124m\"\u001b[39m\u001b[38;5;124mResult of addition:\u001b[39m\u001b[38;5;124m\"\u001b[39m, result1)  \u001b[38;5;66;03m# Output: 15\u001b[39;00m\n\u001b[1;32m     19\u001b[0m \u001b[38;5;66;03m# Using the * operator\u001b[39;00m\n\u001b[0;32m---> 20\u001b[0m result2 \u001b[38;5;241m=\u001b[39m obj1 \u001b[38;5;241m*\u001b[39m \u001b[38;5;241m3\u001b[39m  \u001b[38;5;66;03m# This will call obj1.__mul__(3)\u001b[39;00m\n\u001b[1;32m     21\u001b[0m \u001b[38;5;28mprint\u001b[39m(\u001b[38;5;124m\"\u001b[39m\u001b[38;5;124mResult of multiplication:\u001b[39m\u001b[38;5;124m\"\u001b[39m, result2)\n",
      "\u001b[0;31mTypeError\u001b[0m: unsupported operand type(s) for *: 'MyClass' and 'int'"
     ]
    }
   ],
   "source": [
    "class MyClass:\n",
    "    def __init__(self, value):\n",
    "        self.value = value\n",
    "\n",
    "    def __add__(self, other):\n",
    "        return self.value + other.value\n",
    "\n",
    "    def __mul__(self, scalar):\n",
    "        return self.value * scalar\n",
    "\n",
    "# Creating instances of MyClass\n",
    "obj1 = MyClass(5)\n",
    "obj2 = MyClass(10)\n",
    "\n",
    "# Using the + operator\n",
    "result1 = obj1 + obj2  # This will call obj1.__add__(obj2)\n",
    "print(\"Result of addition:\", result1)  # Output: 15\n",
    "\n",
    "# Using the * operator\n",
    "result2 = obj1 * 3  # This will call obj1.__mul__(3)\n",
    "print(\"Result of multiplication:\", result2)  # Output: 15\n"
   ]
  },
  {
   "cell_type": "code",
   "execution_count": null,
   "metadata": {},
   "outputs": [],
   "source": []
  },
  {
   "cell_type": "code",
   "execution_count": null,
   "metadata": {},
   "outputs": [],
   "source": []
  },
  {
   "cell_type": "code",
   "execution_count": null,
   "metadata": {},
   "outputs": [],
   "source": []
  },
  {
   "cell_type": "code",
   "execution_count": null,
   "metadata": {},
   "outputs": [],
   "source": []
  },
  {
   "cell_type": "code",
   "execution_count": 3,
   "metadata": {},
   "outputs": [],
   "source": [
    "class Atm:\n",
    "  # construter  : it is basucally a function inside the class\n",
    "# class ko run krane s kuch output nhi ata h \n",
    "    # how construter exceute and when it will execute \n",
    "    \n",
    "    def __init__(self):\n",
    "        self.pin = ''\n",
    "        self.balance =0\n",
    "        print(\"mai to execute ho gya bhaiya \")   # is fucniton ko apko call nhi krna  hota h\n",
    "        self.menu() \n",
    "\n",
    "    def menu(self):\n",
    "        user_input= input(\"\"\"\n",
    "            hi how are you? \n",
    "            1.press 1 to create pin \n",
    "            2.press 2 to change pin \n",
    "            3.press 3 to check balance\n",
    "            4.press 4 to withdraw\n",
    "            5.anything esle to exit\n",
    "              \n",
    "        \"\"\")\n",
    "\n",
    "        if user_input ==\"1\":\n",
    "            self.create_pin()\n",
    "        elif user_input == '2':\n",
    "            self.change_pin() \n",
    "            pass\n",
    "        elif user_input == \"3\":\n",
    "            self.check_balance()\n",
    "            pass\n",
    "        elif user_input == \"4\":\n",
    "            self.withdraw()\n",
    "\n",
    "        else:\n",
    "            exit()\n",
    "\n",
    "\n",
    "    \n",
    "    def create_pin(self):\n",
    "        user_pin = input(\"enter the pin\")\n",
    "        self.pin = user_pin\n",
    "        \n",
    "        user_balance = int(input(\"enter the balance \"))\n",
    "        self.balance = user_balance\n",
    "        \n",
    "        print(\"pin created successfully\")\n",
    "        self.menu()\n",
    "\n",
    "\n",
    "    def change_pin(self):\n",
    "        old_pin = input(\"enter the old pin \")\n",
    "\n",
    "        if old_pin == self.pin:\n",
    "            new_pin = input(\"enter the new pin\")\n",
    "            self.pin = new_pin\n",
    "            print(\"pin change successfully\")\n",
    "            self.menu()\n",
    "        else:\n",
    "            print(\"nhi r baba E na h saki\")\n",
    "            self.menu()\n",
    "\n",
    "\n",
    "    def check_balance(self):\n",
    "        user_pin =input(\"entetr your pin \")\n",
    "        if user_pin == self.pin:\n",
    "            print(\"your balance is \",self.balance)\n",
    "        else:\n",
    "            print(\"cahl nikal yaha s \")\n",
    "    \n",
    "\n",
    "    def withdraw(self):\n",
    "        user_pin = int(input(\"enter the amount \"))\n",
    "        if user_pin == self.pin :\n",
    "            amount =int(input(\"enter the amount\"))\n",
    "            if amount <= self.balance:\n",
    "                self.balnce = self.balance -amount \n",
    "                print(\"collect your cash withdrwal successfully\")\n",
    "                self.menu()\n",
    "            else:\n",
    "                print(\"insufficient balance\")\n",
    "        else:\n",
    "            print(\"na r \")\n",
    "            self.menu()\n",
    "\n",
    "            \n",
    "     \n",
    "      \n",
    "\n",
    "\n",
    "\n",
    "    \n",
    "  \n",
    "\n",
    "\n"
   ]
  },
  {
   "cell_type": "code",
   "execution_count": 4,
   "metadata": {},
   "outputs": [
    {
     "name": "stdout",
     "output_type": "stream",
     "text": [
      "mai to execute ho gya bhaiya \n",
      "pin created successfully\n",
      "na r \n"
     ]
    },
    {
     "ename": "",
     "evalue": "",
     "output_type": "error",
     "traceback": [
      "\u001b[1;31mThe Kernel crashed while executing code in the current cell or a previous cell. \n",
      "\u001b[1;31mPlease review the code in the cell(s) to identify a possible cause of the failure. \n",
      "\u001b[1;31mClick <a href='https://aka.ms/vscodeJupyterKernelCrash'>here</a> for more info. \n",
      "\u001b[1;31mView Jupyter <a href='command:jupyter.viewOutput'>log</a> for further details."
     ]
    }
   ],
   "source": [
    "obj= Atm()"
   ]
  },
  {
   "cell_type": "code",
   "execution_count": 15,
   "metadata": {},
   "outputs": [
    {
     "name": "stdout",
     "output_type": "stream",
     "text": [
      "<class '__main__.Atm'>\n"
     ]
    }
   ],
   "source": [
    "print(type(obj))"
   ]
  },
  {
   "cell_type": "code",
   "execution_count": null,
   "metadata": {},
   "outputs": [],
   "source": []
  },
  {
   "cell_type": "code",
   "execution_count": null,
   "metadata": {},
   "outputs": [],
   "source": [
    "# magic methods \n",
    "# how to represent your class as s diagram \n",
    "# dunder method  : are specail method which are not part of the class  __init__ , __add__   like this inko call krne ki jarurat nhi hoti h khud call ho jate h \n",
    "\n"
   ]
  },
  {
   "cell_type": "code",
   "execution_count": 2,
   "metadata": {},
   "outputs": [
    {
     "name": "stdout",
     "output_type": "stream",
     "text": [
      "hello\n"
     ]
    }
   ],
   "source": [
    "class temp:\n",
    "\n",
    "    def __init__(self):\n",
    "        print(\"hello\")\n",
    "\n",
    "obj1=temp()\n",
    "# to kya construter add krta h apki life m fyadda: jiska control app user ko nhi dena chahoge  use construter k ander likhoge : like connection to database , internet k connect krne ka , means jo bhi kaam user k through nhi krna chaete ho\n",
    "\n",
    "#like : death ka construter god k hath m hota h hmmare hath m nhi hota h \n"
   ]
  },
  {
   "cell_type": "code",
   "execution_count": null,
   "metadata": {},
   "outputs": [],
   "source": [
    "# self : hee jagah variable jaise , method \n",
    "# golden rule :attribute ya function  hoge , is dono hi cheeezo ko kon access kr skta h  sirf  object (bj sirf class ki ander ki cheezo obj s access kr skte h\n",
    "\n",
    "# self bhi object hotta h dono ki memory bhi same hoti , self sirf  namm badal kr ander likha hua hota h \n",
    "construter  class k object ko bologe aur obj use function ya data ko bolega\n",
    "\n",
    "# self is the current object jiska use app inside of the calss use krte ho  \n",
    "\n",
    "age more object banye to self kisko point krege currect object ko point krega "
   ]
  },
  {
   "cell_type": "code",
   "execution_count": 15,
   "metadata": {},
   "outputs": [],
   "source": [
    "# parametrised construder : input dena padega pbject bante time\n",
    "class frac:\n",
    "\n",
    "    def __init__(self,x,y):\n",
    "        self.x=x\n",
    "        self.y=y\n",
    "    def __str__(self):\n",
    "        return '{}/{}'.format(self.x,self.y)\n",
    "    \n",
    "    def __add__(self,other):\n",
    "        #print(\"ider\")\n",
    "        \n",
    "\n",
    "\n",
    "\n",
    "\n",
    "obj2=frac(3,5)\n",
    "obj3 = frac(3,5)"
   ]
  },
  {
   "cell_type": "code",
   "execution_count": 16,
   "metadata": {},
   "outputs": [
    {
     "ename": "NameError",
     "evalue": "name 'f1' is not defined",
     "output_type": "error",
     "traceback": [
      "\u001b[0;31m---------------------------------------------------------------------------\u001b[0m",
      "\u001b[0;31mNameError\u001b[0m                                 Traceback (most recent call last)",
      "Cell \u001b[0;32mIn[16], line 1\u001b[0m\n\u001b[0;32m----> 1\u001b[0m f1\n\u001b[1;32m      2\u001b[0m \u001b[38;5;28mprint\u001b[39m(obj2)\n",
      "\u001b[0;31mNameError\u001b[0m: name 'f1' is not defined"
     ]
    }
   ],
   "source": [
    "f1\n",
    "print(obj2)"
   ]
  },
  {
   "cell_type": "code",
   "execution_count": 11,
   "metadata": {},
   "outputs": [
    {
     "name": "stdout",
     "output_type": "stream",
     "text": [
      "3/5 3/5\n"
     ]
    }
   ],
   "source": [
    "print(obj2,obj3)"
   ]
  },
  {
   "cell_type": "code",
   "execution_count": 17,
   "metadata": {},
   "outputs": [
    {
     "name": "stdout",
     "output_type": "stream",
     "text": [
      "ider\n",
      "None\n"
     ]
    }
   ],
   "source": [
    "print(obj2+obj3)"
   ]
  },
  {
   "cell_type": "code",
   "execution_count": 13,
   "metadata": {},
   "outputs": [],
   "source": [
    "s={12,23,34,45}\n",
    "s1={21,21,2,1,}"
   ]
  },
  {
   "cell_type": "code",
   "execution_count": 14,
   "metadata": {},
   "outputs": [
    {
     "ename": "TypeError",
     "evalue": "unsupported operand type(s) for +: 'set' and 'set'",
     "output_type": "error",
     "traceback": [
      "\u001b[0;31m---------------------------------------------------------------------------\u001b[0m",
      "\u001b[0;31mTypeError\u001b[0m                                 Traceback (most recent call last)",
      "Cell \u001b[0;32mIn[14], line 1\u001b[0m\n\u001b[0;32m----> 1\u001b[0m s\u001b[38;5;241m+\u001b[39ms1\n",
      "\u001b[0;31mTypeError\u001b[0m: unsupported operand type(s) for +: 'set' and 'set'"
     ]
    }
   ],
   "source": [
    "s+s1"
   ]
  },
  {
   "cell_type": "code",
   "execution_count": null,
   "metadata": {},
   "outputs": [],
   "source": [
    "# shudhanshu sir "
   ]
  },
  {
   "cell_type": "markdown",
   "metadata": {},
   "source": [
    "a=1\n",
    "print(type(a))"
   ]
  },
  {
   "cell_type": "code",
   "execution_count": 18,
   "metadata": {},
   "outputs": [
    {
     "name": "stdout",
     "output_type": "stream",
     "text": [
      "<class 'int'>\n"
     ]
    }
   ],
   "source": [
    "a=1\n",
    "print(type(a))"
   ]
  },
  {
   "cell_type": "code",
   "execution_count": 19,
   "metadata": {},
   "outputs": [
    {
     "name": "stdout",
     "output_type": "stream",
     "text": [
      "<class 'str'>\n"
     ]
    }
   ],
   "source": [
    "print(type(\"pwskills\"))"
   ]
  },
  {
   "cell_type": "code",
   "execution_count": 20,
   "metadata": {},
   "outputs": [],
   "source": [
    "# class is just a classification of real world entity ,not a speicific of real world entity\n",
    "a= 1 \n",
    "object = instance or variable \n"
   ]
  },
  {
   "cell_type": "code",
   "execution_count": 21,
   "metadata": {},
   "outputs": [],
   "source": [
    "#why we are creating class in programming ,particular cheeez s realted sai cheezo ko store krta h class , code ko struture , \n",
    "what we can store inside the class : variable , fucniont , data everything \n",
    "\n",
    "class test:\n",
    "    pass"
   ]
  },
  {
   "cell_type": "code",
   "execution_count": 22,
   "metadata": {},
   "outputs": [
    {
     "data": {
      "text/plain": [
       "__main__.test"
      ]
     },
     "execution_count": 22,
     "metadata": {},
     "output_type": "execute_result"
    }
   ],
   "source": [
    "a= test()\n",
    "type(a)"
   ]
  },
  {
   "cell_type": "code",
   "execution_count": 23,
   "metadata": {},
   "outputs": [
    {
     "name": "stdout",
     "output_type": "stream",
     "text": [
      "<class '__main__.test'>\n"
     ]
    }
   ],
   "source": [
    "print(type(a))"
   ]
  },
  {
   "cell_type": "code",
   "execution_count": 27,
   "metadata": {},
   "outputs": [],
   "source": [
    "class prince:\n",
    "    def welcome_msg(self):\n",
    "        print(\"wlecome to pirnce class\")\n",
    "        "
   ]
  },
  {
   "cell_type": "code",
   "execution_count": 28,
   "metadata": {},
   "outputs": [
    {
     "name": "stdout",
     "output_type": "stream",
     "text": [
      "wlecome to pirnce class\n"
     ]
    }
   ],
   "source": [
    "rohan = prince()\n",
    "rohan.welcome_msg()"
   ]
  },
  {
   "cell_type": "code",
   "execution_count": 30,
   "metadata": {},
   "outputs": [
    {
     "name": "stdout",
     "output_type": "stream",
     "text": [
      "wlecome to pirnce class\n"
     ]
    }
   ],
   "source": [
    "gaurav = prince()\n",
    "gaurav.welcome_msg()"
   ]
  },
  {
   "cell_type": "code",
   "execution_count": 5,
   "metadata": {},
   "outputs": [],
   "source": [
    "# for pasing  the data into class prince1:\n",
    "\n",
    "class prince1:\n",
    "\n",
    "    def __init__(self,phn,email,student_id):\n",
    "        self.phn = phn \n",
    "        self.email = email \n",
    "        self.student_id = student_id \n",
    "\n",
    "    def return_value(self):\n",
    "        return self.phn, self.email,self.student_id\n",
    "    "
   ]
  },
  {
   "cell_type": "code",
   "execution_count": 10,
   "metadata": {},
   "outputs": [
    {
     "data": {
      "text/plain": [
       "(1232, 'prnce@gmail.com', 234)"
      ]
     },
     "execution_count": 10,
     "metadata": {},
     "output_type": "execute_result"
    }
   ],
   "source": [
    "rohan = prince1(1232,\"prnce@gmail.com\",234)\n",
    "rohan.return_value()"
   ]
  },
  {
   "cell_type": "code",
   "execution_count": null,
   "metadata": {},
   "outputs": [],
   "source": [
    "# class ander apko apko self lgakr use krna ho ga bahr appo bjk sath use krege \n",
    "# how to pass data , how to assingn , how to tell that this class is belong to class \n",
    "# explain about self , what else can we put in place of self \n",
    "# hwo to access data inside clss and how to access outside the class \n",
    " "
   ]
  },
  {
   "cell_type": "code",
   "execution_count": 50,
   "metadata": {},
   "outputs": [],
   "source": [
    "import logging \n",
    "\n",
    "\n",
    "logging.basicConfig(filename='app.log',level=logging.DEBUG ,\n",
    "                    format= '%(name)s-%(asctime)s-%(levelname)s-%(message)s',force=True)\n",
    "\n",
    "file_handler = logging.FileHandler('app.log')\n",
    "file_handler.setLevel(logging.DEBUG)\n",
    "formatter= logging.Formatter('%(name)s-%(asctime)s-%(levelname)s-%(message)s')\n",
    "file_handler.setFormatter(formatter)\n",
    "\n",
    "logging.getLogger('').addHandler(file_handler)\n",
    "logging.info(\"this is my main log\")\n",
    "logger1 = logging.getLogger('user1')\n",
    "logger2 = logging.getLogger('user2')\n",
    "logger1.info(\"this is my first messge through user11 \")\n",
    "logger2.debug(\"this is my second messge through user2 \")"
   ]
  },
  {
   "cell_type": "code",
   "execution_count": null,
   "metadata": {},
   "outputs": [],
   "source": [
    "# day2 "
   ]
  },
  {
   "cell_type": "markdown",
   "metadata": {},
   "source": [
    "# Day2 "
   ]
  },
  {
   "cell_type": "code",
   "execution_count": 63,
   "metadata": {},
   "outputs": [
    {
     "name": "stdout",
     "output_type": "stream",
     "text": [
      "Account Number: 123456789\n",
      "Current Balance: $1000\n",
      "Deposit of $500 successful. New balance: $1500\n",
      "Withdrawal of $200 successful. New balance: $1300\n",
      "Account Number: 987654321\n",
      "Current Balance: $500\n",
      "Deposit of $100 successful. New balance: $600\n",
      "Insufficient funds!\n"
     ]
    }
   ],
   "source": [
    "class BankAccount:\n",
    "    def __init__(self, account_number, balance):\n",
    "        self.account_number = account_number\n",
    "        self.balance = balance\n",
    "\n",
    "    def deposit(self, amount):\n",
    "        self.balance += amount\n",
    "        print(f\"Deposit of ${amount} successful. New balance: ${self.balance}\")\n",
    "\n",
    "    def withdraw(self, amount):\n",
    "        if amount > self.balance:\n",
    "            print(\"Insufficient funds!\")\n",
    "        else:\n",
    "            self.balance -= amount\n",
    "            print(f\"Withdrawal of ${amount} successful. New balance: ${self.balance}\")\n",
    "\n",
    "    def display_balance(self):\n",
    "        print(f\"Account Number: {self.account_number}\\nCurrent Balance: ${self.balance}\")\n",
    "\n",
    "\n",
    "# Creating two bank accounts\n",
    "account1 = BankAccount(\"123456789\", 1000)\n",
    "account2 = BankAccount(\"987654321\", 500)\n",
    "\n",
    "# Depositing and withdrawing from account1\n",
    "account1.display_balance()\n",
    "account1.deposit(500)\n",
    "account1.withdraw(200)\n",
    "\n",
    "# Depositing and withdrawing from account2\n",
    "account2.display_balance()\n",
    "account2.deposit(100)\n",
    "account2.withdraw(700)\n"
   ]
  },
  {
   "cell_type": "code",
   "execution_count": 12,
   "metadata": {},
   "outputs": [
    {
     "name": "stdout",
     "output_type": "stream",
     "text": [
      "deposit successfull.balance is 1500\n",
      "Withdrawal of $200 successful. New balance: $1300\n"
     ]
    }
   ],
   "source": [
    "class Bankaccount :\n",
    "    def __init__(self,account_number , balance):\n",
    "        self.account_number= account_number\n",
    "        self.balance = balance\n",
    "\n",
    "\n",
    "    def deposit(self,amount):\n",
    "        self.balance += amount\n",
    "        print(\"deposit successfull.balance is\",self.balance)\n",
    "\n",
    "    def withdraw(self, amount):\n",
    "        if amount > self.balance:\n",
    "            print(\"Insufficient funds!\")\n",
    "        else:\n",
    "            self.balance -= amount\n",
    "            print(f\"Withdrawal of ${amount} successful. New balance: ${self.balance}\")\n",
    "\n",
    "\n",
    "    def balance(self):\n",
    "        print(self.balance)\n",
    "\n",
    "\n",
    "account1 = Bankaccount(\"123456789\", 1000)\n",
    "account2 = Bankaccount(\"987654321\", 500)\n",
    "\n",
    "\n",
    "account1.deposit(500)\n",
    "account1.withdraw(200)\n",
    "\n"
   ]
  },
  {
   "cell_type": "code",
   "execution_count": null,
   "metadata": {},
   "outputs": [],
   "source": [
    "# can we change the value from the outside in class : yes"
   ]
  },
  {
   "cell_type": "code",
   "execution_count": 3,
   "metadata": {},
   "outputs": [
    {
     "data": {
      "text/plain": [
       "'female'"
      ]
     },
     "execution_count": 3,
     "metadata": {},
     "output_type": "execute_result"
    }
   ],
   "source": [
    "\n",
    "class person :\n",
    "    def __init__(self, name ,gender):\n",
    "        self.name = name \n",
    "        self.gender = gender\n",
    "\n",
    "\n",
    "p=person(\"ram\",\"male\")\n",
    "p.gender = \"female\"\n",
    "p.gender\n",
    "\n",
    "\n"
   ]
  },
  {
   "cell_type": "code",
   "execution_count": 5,
   "metadata": {},
   "outputs": [
    {
     "data": {
      "text/plain": [
       "'female'"
      ]
     },
     "execution_count": 5,
     "metadata": {},
     "output_type": "execute_result"
    }
   ],
   "source": [
    "# can we store value run without creating a object of that class : yes \n",
    "# because object is refrening that memory location   nothing else \n",
    "q=p    # refernce varaible hold the address \n",
    "q.gender"
   ]
  },
  {
   "cell_type": "code",
   "execution_count": null,
   "metadata": {},
   "outputs": [],
   "source": []
  },
  {
   "cell_type": "code",
   "execution_count": 8,
   "metadata": {},
   "outputs": [
    {
     "name": "stdout",
     "output_type": "stream",
     "text": [
      "ram\n",
      "ram\n",
      "ankit\n",
      "ankit\n"
     ]
    }
   ],
   "source": [
    "print(p.name)     # reference variable hold th e adress \n",
    "\n",
    "print(q.name)      # nothings esle it can hold \n",
    "\n",
    "q.name = \"ankit\"\n",
    "print(p.name)     # object can have multiple refernce vairalbe \n",
    "print(q.name)  # # once you chagne refernce variable it will do changes everywhere  like here both having the ankit as a name "
   ]
  },
  {
   "cell_type": "code",
   "execution_count": null,
   "metadata": {},
   "outputs": [],
   "source": [
    "\n",
    "# Define a function to modify a list\n",
    "def modify_list(lst):\n",
    "    lst.append(4)  # Append an element to the list\n",
    "    lst[0] = 100   # Modify the first element of the list\n",
    "\n",
    "# Define a list\n",
    "my_list = [1, 2, 3]\n",
    "\n",
    "# Print the original list\n",
    "print(\"Original list:\", my_list)  # Output: Original list: [1, 2, 3]\n",
    "\n",
    "# Call the function and pass the list as an argument\n",
    "modify_list(my_list)\n",
    "\n",
    "# Print the modified list\n",
    "print(\"Modified list:\", my_list)"
   ]
  },
  {
   "cell_type": "code",
   "execution_count": 9,
   "metadata": {},
   "outputs": [
    {
     "name": "stdout",
     "output_type": "stream",
     "text": [
      "prince male\n"
     ]
    }
   ],
   "source": [
    "# pass by reference variable \n",
    "class person :\n",
    "    def __init__(self, name ,gender):\n",
    "        self.name = name \n",
    "        self.gender = gender\n",
    "\n",
    "\n",
    "# outside fuction m object pass kiya same output aa rha h \n",
    "def greet(person):\n",
    "    print(person.name ,person.gender)\n",
    "\n",
    "p =person(\"prince\",\"male\")\n",
    "\n",
    "greet(p)\n",
    "\n",
    "'''you're passing an object of the person class to the greet function. When you do this in Python, you're actually passing a reference to the object. This means that any changes made to the object within the function will affect the original object outside the function. This concept is known as pass by reference.\n",
    "'''"
   ]
  },
  {
   "cell_type": "code",
   "execution_count": 42,
   "metadata": {},
   "outputs": [
    {
     "name": "stdout",
     "output_type": "stream",
     "text": [
      "prince male\n",
      "prince1\n",
      "male1\n",
      "male\n",
      "prince\n"
     ]
    }
   ],
   "source": [
    "#fucniton returning as object \n",
    "\n",
    "class person :\n",
    "    def __init__(self, name ,gender):\n",
    "        self.name = name \n",
    "        self.gender = gender\n",
    "\n",
    "\n",
    "# outside fuction m object pass kiya same output aa rha h \n",
    "def greet(p):\n",
    "    print(p.name ,p.gender)\n",
    "    p1 = person(\"prince1\",\"male1\")\n",
    "    return p1 \n",
    "\n",
    "p =person(\"prince\",\"male\")\n",
    "x =greet(p)\n",
    "print(x.name)\n",
    "print(x.gender)\n",
    "print(p.gender)\n",
    "print(p.name)"
   ]
  },
  {
   "cell_type": "code",
   "execution_count": 117,
   "metadata": {},
   "outputs": [
    {
     "name": "stdout",
     "output_type": "stream",
     "text": [
      "4462294352\n",
      "4462294352\n",
      "ankit\n",
      "ankit\n"
     ]
    }
   ],
   "source": [
    "#ek jgh p chagne krne pr hr jgh change ho jayega \n",
    "class person :\n",
    "    def __init__(self, name ,gender):\n",
    "        self.name = name \n",
    "        self.gender = gender\n",
    "\n",
    "\n",
    "# outside fuction m object pass kiya same output aa rha h \n",
    "def greet(p):\n",
    "    print(id(p))\n",
    "    p.name = \"ankit\"\n",
    "    print(p.name)\n",
    "\n",
    "p =person(\"prince\",\"male\")\n",
    "print(id(p))\n",
    "x =greet(p)\n",
    "print(p.name)"
   ]
  },
  {
   "cell_type": "markdown",
   "metadata": {},
   "source": [
    "# encapsulation in python "
   ]
  },
  {
   "cell_type": "code",
   "execution_count": 109,
   "metadata": {},
   "outputs": [
    {
     "name": "stdout",
     "output_type": "stream",
     "text": [
      "deposit successfull.balance is 1500\n",
      "Withdrawal of $200 successful. New balance: $1300\n"
     ]
    }
   ],
   "source": [
    "class Bankaccount :\n",
    "    def __init__(self,account_number , balance):\n",
    "        self.account_number= account_number\n",
    "        self.balance = balance\n",
    "\n",
    "\n",
    "    def deposit(self,amount):\n",
    "        self.balance += amount\n",
    "        print(\"deposit successfull.balance is\",self.balance)\n",
    "\n",
    "    def withdraw(self, amount):\n",
    "        if amount > self.balance:\n",
    "            print(\"Insufficient funds!\")\n",
    "        else:\n",
    "            self.balance -= amount\n",
    "            print(f\"Withdrawal of ${amount} successful. New balance: ${self.balance}\")\n",
    "\n",
    "\n",
    "    def balance(self):\n",
    "        print(self.balance)\n",
    "\n",
    "\n",
    "account1 = Bankaccount(\"123456789\", 1000)\n",
    "\n",
    "account2 = Bankaccount(\"987654321\", 500)\n",
    "\n",
    "\n",
    "account1.deposit(500)\n",
    "account1.withdraw(200)"
   ]
  },
  {
   "cell_type": "code",
   "execution_count": 118,
   "metadata": {},
   "outputs": [
    {
     "name": "stdout",
     "output_type": "stream",
     "text": [
      "Balance after deposit: 1500\n",
      "Withdrawal successful. Balance: 1300\n"
     ]
    },
    {
     "data": {
      "text/plain": [
       "True"
      ]
     },
     "execution_count": 118,
     "metadata": {},
     "output_type": "execute_result"
    }
   ],
   "source": [
    "account1.balance = \"wahh\"\n",
    "account1.deposit(500)\n",
    "account1.withdraw(200)"
   ]
  },
  {
   "cell_type": "code",
   "execution_count": null,
   "metadata": {},
   "outputs": [],
   "source": [
    "#what we can do to  protect it or hide from the other people \n",
    "# can we hide or instance totally from the other people \n",
    "# iwhy cannot we hide totlally ?\n",
    "# what are the ways to access the varible the  private variabe "
   ]
  },
  {
   "cell_type": "markdown",
   "metadata": {},
   "source": []
  },
  {
   "cell_type": "code",
   "execution_count": 7,
   "metadata": {},
   "outputs": [
    {
     "ename": "AttributeError",
     "evalue": "'Bankaccount' object has no attribute 'balance'",
     "output_type": "error",
     "traceback": [
      "\u001b[0;31m---------------------------------------------------------------------------\u001b[0m",
      "\u001b[0;31mAttributeError\u001b[0m                            Traceback (most recent call last)",
      "Cell \u001b[0;32mIn[7], line 24\u001b[0m\n\u001b[1;32m     19\u001b[0m account1 \u001b[38;5;241m=\u001b[39m Bankaccount(\u001b[38;5;124m\"\u001b[39m\u001b[38;5;124m123456789\u001b[39m\u001b[38;5;124m\"\u001b[39m, \u001b[38;5;241m1000\u001b[39m)\n\u001b[1;32m     20\u001b[0m account2 \u001b[38;5;241m=\u001b[39m Bankaccount(\u001b[38;5;124m\"\u001b[39m\u001b[38;5;124m987654321\u001b[39m\u001b[38;5;124m\"\u001b[39m, \u001b[38;5;241m500\u001b[39m)\n\u001b[0;32m---> 24\u001b[0m \u001b[38;5;28mprint\u001b[39m(\u001b[38;5;124m\"\u001b[39m\u001b[38;5;124mAccount 1 balance:\u001b[39m\u001b[38;5;124m\"\u001b[39m, account1\u001b[38;5;241m.\u001b[39mbalance)\n",
      "\u001b[0;31mAttributeError\u001b[0m: 'Bankaccount' object has no attribute 'balance'"
     ]
    }
   ],
   "source": [
    "class Bankaccount:\n",
    "    def __init__(self, account_number, balance):\n",
    "        self.account_number = account_number\n",
    "        self.__balance = balance\n",
    "\n",
    "    def deposit(self, amount):\n",
    "        self.__balance += amount\n",
    "        print(\"Deposit successful. Balance is\", self.__balance)\n",
    "\n",
    "    def withdraw(self, amount):\n",
    "        if amount > self.__balance:\n",
    "            print(\"Insufficient funds!\")\n",
    "        else:\n",
    "            self.__balance -= amount\n",
    "            print(f\"Withdrawal of ${amount} successful. New balance: ${self.__balance}\")\n",
    "\n",
    "\n",
    "\n",
    "account1 = Bankaccount(\"123456789\", 1000)\n",
    "account2 = Bankaccount(\"987654321\", 500)\n",
    "\n",
    "\n",
    "\n",
    "#print(\"Account 1 balance:\", account1.balance)\n"
   ]
  },
  {
   "cell_type": "code",
   "execution_count": null,
   "metadata": {},
   "outputs": [],
   "source": []
  },
  {
   "cell_type": "code",
   "execution_count": 9,
   "metadata": {},
   "outputs": [
    {
     "ename": "AttributeError",
     "evalue": "'Bankaccount' object has no attribute '__balance'",
     "output_type": "error",
     "traceback": [
      "\u001b[0;31m---------------------------------------------------------------------------\u001b[0m",
      "\u001b[0;31mAttributeError\u001b[0m                            Traceback (most recent call last)",
      "Cell \u001b[0;32mIn[9], line 1\u001b[0m\n\u001b[0;32m----> 1\u001b[0m account1\u001b[38;5;241m.\u001b[39m__balance\n",
      "\u001b[0;31mAttributeError\u001b[0m: 'Bankaccount' object has no attribute '__balance'"
     ]
    }
   ],
   "source": [
    "account1.__balance"
   ]
  },
  {
   "cell_type": "code",
   "execution_count": 10,
   "metadata": {},
   "outputs": [
    {
     "data": {
      "text/plain": [
       "1000"
      ]
     },
     "execution_count": 10,
     "metadata": {},
     "output_type": "execute_result"
    }
   ],
   "source": [
    "account1._Bankaccount__balance"
   ]
  },
  {
   "cell_type": "code",
   "execution_count": 38,
   "metadata": {},
   "outputs": [],
   "source": [
    "# static method vs instance method "
   ]
  },
  {
   "cell_type": "code",
   "execution_count": null,
   "metadata": {},
   "outputs": [],
   "source": [
    "# car example \n"
   ]
  },
  {
   "cell_type": "code",
   "execution_count": 12,
   "metadata": {},
   "outputs": [],
   "source": [
    "class test : \n",
    "    \n",
    "    \n",
    "    def __init__(self , a, b ):\n",
    "        self.a = a \n",
    "        self.b = b"
   ]
  },
  {
   "cell_type": "code",
   "execution_count": 13,
   "metadata": {},
   "outputs": [],
   "source": [
    "t=test(3,5)"
   ]
  },
  {
   "cell_type": "code",
   "execution_count": 14,
   "metadata": {},
   "outputs": [
    {
     "data": {
      "text/plain": [
       "3"
      ]
     },
     "execution_count": 14,
     "metadata": {},
     "output_type": "execute_result"
    }
   ],
   "source": [
    "t.a"
   ]
  },
  {
   "cell_type": "code",
   "execution_count": 16,
   "metadata": {},
   "outputs": [],
   "source": [
    "class car :\n",
    "    def __init__(self , year , make , model, speed ) : \n",
    "        \n",
    "        self.__year = year \n",
    "        self.__make = make\n",
    "        self.__model = model\n",
    "        self.__speed = 0\n",
    "        \n",
    "    def set_speed(self,speed) : \n",
    "        self.__speed = 0 if speed < 0 else speed\n",
    "        \n",
    "    def get_speed(self)  : \n",
    "        return self.__speed"
   ]
  },
  {
   "cell_type": "code",
   "execution_count": 17,
   "metadata": {},
   "outputs": [],
   "source": [
    "c = car(2021 , \"toyata\" , \"innova\" , 12)"
   ]
  },
  {
   "cell_type": "code",
   "execution_count": 20,
   "metadata": {},
   "outputs": [
    {
     "data": {
      "text/plain": [
       "0"
      ]
     },
     "execution_count": 20,
     "metadata": {},
     "output_type": "execute_result"
    }
   ],
   "source": [
    "c.set_speed(-100)\n",
    "c.get_speed()"
   ]
  },
  {
   "cell_type": "code",
   "execution_count": 21,
   "metadata": {},
   "outputs": [
    {
     "data": {
      "text/plain": [
       "100"
      ]
     },
     "execution_count": 21,
     "metadata": {},
     "output_type": "execute_result"
    }
   ],
   "source": [
    "c.set_speed(100)\n",
    "c.get_speed()"
   ]
  },
  {
   "cell_type": "code",
   "execution_count": null,
   "metadata": {},
   "outputs": [],
   "source": []
  },
  {
   "cell_type": "code",
   "execution_count": 22,
   "metadata": {},
   "outputs": [],
   "source": [
    "class bank_account:\n",
    "    def __init__(self,balance):\n",
    "        self.balance  = balance \n",
    "\n",
    "    def deposit(self, amount):\n",
    "        self.balance= self.balance + amount \n",
    "        print(self.balance)\n",
    "\n",
    "    def withdraw(self,amount):\n",
    "        if self.balance >=amount :\n",
    "            self.balance = self.balance - amount\n",
    "            return True \n",
    "        \n",
    "        else:\n",
    "            print(\"insufficient balance\")\n",
    "\n",
    "    \n",
    "    "
   ]
  },
  {
   "cell_type": "code",
   "execution_count": 23,
   "metadata": {},
   "outputs": [],
   "source": [
    "b=bank_account(1000)\n"
   ]
  },
  {
   "cell_type": "code",
   "execution_count": 27,
   "metadata": {},
   "outputs": [],
   "source": [
    "class bank_account : \n",
    "\n",
    "    \n",
    "    def __init__(self , balance) : \n",
    "        self.__balanace = balance \n",
    "        \n",
    "    def deposit(self , amount) : \n",
    "        self.__balanace = self.__balanace + amount\n",
    "        \n",
    "    def withdaw(self ,amount) : \n",
    "        if self.__balanace >= amount :\n",
    "            self.__balanace = self.__balanace - amount\n",
    "            return True\n",
    "        else : \n",
    "            return False\n",
    "    \n",
    "    def get_banalnce(self):\n",
    "        return self.__balanace\n"
   ]
  },
  {
   "cell_type": "code",
   "execution_count": 28,
   "metadata": {},
   "outputs": [
    {
     "data": {
      "text/plain": [
       "1500"
      ]
     },
     "execution_count": 28,
     "metadata": {},
     "output_type": "execute_result"
    }
   ],
   "source": [
    "b=bank_account(1000)\n",
    "b.deposit(500)\n",
    "b.get_banalnce()"
   ]
  },
  {
   "cell_type": "code",
   "execution_count": 30,
   "metadata": {},
   "outputs": [
    {
     "data": {
      "text/plain": [
       "True"
      ]
     },
     "execution_count": 30,
     "metadata": {},
     "output_type": "execute_result"
    }
   ],
   "source": [
    "b.withdaw(32)"
   ]
  },
  {
   "cell_type": "code",
   "execution_count": null,
   "metadata": {},
   "outputs": [],
   "source": [
    "# static vs instance variable \n",
    "'''\n",
    "variabe that is not related to any object\n",
    "variable the is used through  class \n",
    "'''\n",
    "\"\"\"\n",
    "instance:\n",
    "variable that is related to object\n",
    "variable those are used through object\n",
    "\"\"\""
   ]
  },
  {
   "cell_type": "code",
   "execution_count": 37,
   "metadata": {},
   "outputs": [],
   "source": [
    "class bank_account : \n",
    "\n",
    "    bank_name = \"MyBank\"\n",
    "    def __init__(self , balance) : \n",
    "        self.__balanace = balance \n",
    "        \n",
    "    def deposit(self , amount) : \n",
    "        self.__balanace = self.__balanace + amount\n",
    "        \n",
    "    def withdaw(self ,amount) : \n",
    "        if self.__balanace >= amount :\n",
    "            self.__balanace = self.__balanace - amount\n",
    "            return True\n",
    "        else : \n",
    "            return False\n",
    "    \n",
    "    def get_banalnce(self):\n",
    "        return self.__balanace\n",
    "\n",
    "\n",
    "account1."
   ]
  },
  {
   "cell_type": "code",
   "execution_count": 38,
   "metadata": {},
   "outputs": [
    {
     "name": "stdout",
     "output_type": "stream",
     "text": [
      "Bank Name: MyBank\n"
     ]
    }
   ],
   "source": [
    "print(\"Bank Name:\", bank_account.bank_name)"
   ]
  },
  {
   "cell_type": "code",
   "execution_count": 41,
   "metadata": {},
   "outputs": [
    {
     "ename": "AttributeError",
     "evalue": "'Bankaccount' object has no attribute 'get_banalnce'",
     "output_type": "error",
     "traceback": [
      "\u001b[0;31m---------------------------------------------------------------------------\u001b[0m",
      "\u001b[0;31mAttributeError\u001b[0m                            Traceback (most recent call last)",
      "Cell \u001b[0;32mIn[41], line 1\u001b[0m\n\u001b[0;32m----> 1\u001b[0m \u001b[38;5;28mprint\u001b[39m(\u001b[38;5;124m\"\u001b[39m\u001b[38;5;124mAccount 1 Balance:\u001b[39m\u001b[38;5;124m\"\u001b[39m, account1\u001b[38;5;241m.\u001b[39mget_banalnce())\n",
      "\u001b[0;31mAttributeError\u001b[0m: 'Bankaccount' object has no attribute 'get_banalnce'"
     ]
    }
   ],
   "source": [
    "print(\"Account 1 Balance:\", account1.get_banalnce())  "
   ]
  },
  {
   "cell_type": "code",
   "execution_count": 115,
   "metadata": {},
   "outputs": [
    {
     "name": "stdout",
     "output_type": "stream",
     "text": [
      "Bank Name: MyBank\n",
      "Account 1 Balance: 1000\n",
      "Balance after deposit: 1500\n",
      "Withdrawal successful. Balance: 1300\n"
     ]
    },
    {
     "data": {
      "text/plain": [
       "True"
      ]
     },
     "execution_count": 115,
     "metadata": {},
     "output_type": "execute_result"
    }
   ],
   "source": [
    "class bank_account:\n",
    "    # Static variable\n",
    "    bank_name = \"MyBank\"\n",
    "\n",
    "    def __init__(self, balance):\n",
    "        # Instance variable\n",
    "        self.__balance = balance\n",
    "\n",
    "    def deposit(self, amount):\n",
    "        self.__balance += amount\n",
    "        print(\"Balance after deposit:\", self.__balance)\n",
    "\n",
    "    def withdraw(self, amount):\n",
    "        if self.__balance >= amount:\n",
    "            self.__balance -= amount\n",
    "            print(\"Withdrawal successful. Balance:\", self.__balance)\n",
    "            return True\n",
    "        else:\n",
    "            print(\"Insufficient balance\")\n",
    "            return False\n",
    "\n",
    "    def get_balance(self):\n",
    "        return self.__balance\n",
    "\n",
    "# Example usage:\n",
    "account1 = bank_account(1000)\n",
    "account2 = bank_account(5000)\n",
    "\n",
    "print(\"Bank Name:\", bank_account.bank_name)  # Accessing static variable\n",
    "print(\"Account 1 Balance:\", account1.get_balance())  # Accessing instance variable\n",
    "\n",
    "# Accessing instance variable\n",
    "\n",
    "account1.deposit(500)  # Deposit to account 1\n",
    "\n",
    "\n",
    "\n",
    "account1.withdraw(200)\n"
   ]
  },
  {
   "cell_type": "code",
   "execution_count": null,
   "metadata": {},
   "outputs": [],
   "source": []
  },
  {
   "cell_type": "code",
   "execution_count": 116,
   "metadata": {},
   "outputs": [
    {
     "name": "stdout",
     "output_type": "stream",
     "text": [
      "Bank Name: MyBank\n",
      "Balance: 1000\n",
      "Bank Name: MyBank\n",
      "Balance: 5000\n",
      "Welcome to MyBank\n"
     ]
    }
   ],
   "source": [
    "class bank_account:\n",
    "    # Static variable\n",
    "    bank_name = \"MyBank\"\n",
    "\n",
    "    def __init__(self, balance):\n",
    "        # Instance variable\n",
    "        self.__balance = balance\n",
    "\n",
    "    def deposit(self, amount):\n",
    "        self.__balance += amount\n",
    "        print(\"Balance after deposit:\", self.__balance)\n",
    "\n",
    "    def withdraw(self, amount):\n",
    "        if self.__balance >= amount:\n",
    "            self.__balance -= amount\n",
    "            print(\"Withdrawal successful. Balance:\", self.__balance)\n",
    "            return True\n",
    "        else:\n",
    "            print(\"Insufficient balance\")\n",
    "            return False\n",
    "\n",
    "    def get_balance(self):\n",
    "        return self.__balance\n",
    "\n",
    "    # Instance method\n",
    "    def display_account_info(self):\n",
    "        print(\"Bank Name:\", self.bank_name)\n",
    "        print(\"Balance:\", self.get_balance())\n",
    "\n",
    "    # Static method\n",
    "    @staticmethod\n",
    "    def greeting():\n",
    "        print(\"Welcome to\", bank_account.bank_name)\n",
    "\n",
    "# Example usage:\n",
    "account1 = bank_account(1000)\n",
    "account2 = bank_account(5000)\n",
    "\n",
    "account1.display_account_info()  # Instance method\n",
    "account2.display_account_info()  # Instance method\n",
    "\n",
    "bank_account.greeting()  # Static method\n"
   ]
  },
  {
   "cell_type": "code",
   "execution_count": null,
   "metadata": {},
   "outputs": [],
   "source": []
  },
  {
   "cell_type": "code",
   "execution_count": null,
   "metadata": {},
   "outputs": [],
   "source": []
  },
  {
   "cell_type": "code",
   "execution_count": null,
   "metadata": {},
   "outputs": [],
   "source": []
  },
  {
   "cell_type": "code",
   "execution_count": null,
   "metadata": {},
   "outputs": [],
   "source": []
  },
  {
   "cell_type": "code",
   "execution_count": null,
   "metadata": {},
   "outputs": [],
   "source": []
  },
  {
   "cell_type": "code",
   "execution_count": null,
   "metadata": {},
   "outputs": [],
   "source": []
  },
  {
   "cell_type": "code",
   "execution_count": null,
   "metadata": {},
   "outputs": [],
   "source": []
  },
  {
   "cell_type": "code",
   "execution_count": null,
   "metadata": {},
   "outputs": [],
   "source": []
  },
  {
   "cell_type": "code",
   "execution_count": null,
   "metadata": {},
   "outputs": [],
   "source": []
  },
  {
   "cell_type": "code",
   "execution_count": null,
   "metadata": {},
   "outputs": [],
   "source": []
  },
  {
   "cell_type": "code",
   "execution_count": 82,
   "metadata": {},
   "outputs": [],
   "source": [
    "# object without a reference \n",
    "\n",
    "#referene ariable hold he adress \n",
    "\n",
    "\n",
    "class person :\n",
    "    def __init__(self, name ,gender):\n",
    "        self.name = name \n",
    "        self.gender = gender\n",
    "\n",
    "\n",
    "p=person(\"ram\",\"male\")  # without p we can create person pbject p only storing the valur of object or memory of that object \n",
    "q = p  # it means that q also pointing  the same memory location "
   ]
  },
  {
   "cell_type": "code",
   "execution_count": 86,
   "metadata": {},
   "outputs": [
    {
     "name": "stdout",
     "output_type": "stream",
     "text": [
      "ankit\n",
      "ankit\n",
      "ankit\n",
      "ankit\n"
     ]
    }
   ],
   "source": [
    "print(p.name) \n",
    "print(q.name)\n",
    "q.name = \"ankit\"    # refernce varaible hold the address \n",
    "# we can create reference variable without p also  \n",
    "# objec have multiple reference variabel \n",
    "# once you cbhage refernce variable it will do changes everywhere  like here both having the ankit as a name \n",
    "print(p.name)  \n",
    "print(q.name) "
   ]
  },
  {
   "cell_type": "code",
   "execution_count": 87,
   "metadata": {},
   "outputs": [
    {
     "name": "stdout",
     "output_type": "stream",
     "text": [
      "prince male\n"
     ]
    }
   ],
   "source": [
    "# pass by reference variable \n",
    "class person :\n",
    "    def __init__(self, name ,gender):\n",
    "        self.name = name \n",
    "        self.gender = gender\n",
    "\n",
    "\n",
    "# outside fuction m object pass kiya same output aa rha h \n",
    "def greet(person):\n",
    "    print(person.name ,person.gender)\n",
    "\n",
    "p =person(\"prince\",\"male\")\n",
    "\n",
    "greet(p)"
   ]
  },
  {
   "cell_type": "code",
   "execution_count": 12,
   "metadata": {},
   "outputs": [
    {
     "name": "stdout",
     "output_type": "stream",
     "text": [
      "prince male\n",
      "prince1\n",
      "male1\n"
     ]
    }
   ],
   "source": [
    "#fucniton returning as object \n",
    "\n",
    "class person :\n",
    "    def __init__(self, name ,gender):\n",
    "        self.name = name \n",
    "        self.gender = gender\n",
    "\n",
    "\n",
    "# outside fuction m object pass kiya same output aa rha h \n",
    "def greet(p):\n",
    "    print(p.name ,p.gender)\n",
    "    p1 = person(\"prince1\",\"male1\")\n",
    "    return p1 \n",
    "\n",
    "p =person(\"prince\",\"male\")\n",
    "x =greet(p)\n",
    "print(x.name)\n",
    "print(x.gender)"
   ]
  },
  {
   "cell_type": "code",
   "execution_count": 14,
   "metadata": {},
   "outputs": [
    {
     "name": "stdout",
     "output_type": "stream",
     "text": [
      "4501393936\n",
      "4501393936\n",
      "ankit\n",
      "ankit\n"
     ]
    }
   ],
   "source": [
    "#ek jgh p chagne krne pr hr jgh change ho jayega \n",
    "class person :\n",
    "    def __init__(self, name ,gender):\n",
    "        self.name = name \n",
    "        self.gender = gender\n",
    "\n",
    "\n",
    "# outside fuction m object pass kiya same output aa rha h \n",
    "def greet(p):\n",
    "    print(id(p))\n",
    "    p.name = \"ankit\"\n",
    "    print(p.name)\n",
    "\n",
    "p =person(\"prince\",\"male\")\n",
    "print(id(p))\n",
    "x =greet(p)\n",
    "print(p.name)"
   ]
  },
  {
   "cell_type": "code",
   "execution_count": null,
   "metadata": {},
   "outputs": [],
   "source": []
  },
  {
   "cell_type": "code",
   "execution_count": 15,
   "metadata": {},
   "outputs": [
    {
     "name": "stdout",
     "output_type": "stream",
     "text": [
      "4501396944\n",
      "4501396944\n"
     ]
    }
   ],
   "source": [
    "#changes krke bhj diya to mutable to address same other wise if immutable to change ho jayega \n",
    "\n",
    "# sare user defined class in  python are mutable  unka address change nhi  hota means mutable  \n",
    "\n",
    "class person :\n",
    "    def __init__(self, name ,gender):\n",
    "        self.name = name \n",
    "        self.gender = gender\n",
    "\n",
    "\n",
    "# outside fuction m object pass kiya same output aa rha h \n",
    "def greet(p):\n",
    " \n",
    "    p.name = \"ankit\"\n",
    "    return p\n",
    " \n",
    "p =person(\"prince\",\"male\")\n",
    "print(id(p))\n",
    "p1 =greet(p)\n",
    "print(id(p1))"
   ]
  },
  {
   "cell_type": "code",
   "execution_count": null,
   "metadata": {},
   "outputs": [],
   "source": [
    "# encapsulation : hiding the data and methods of an object from the outside world.\n",
    "# instance variable : ek aisa varible jiska value alg alg object k leye alag alag hota h usko hmm bolte h instance vatiable \n",
    "\n",
    "\n",
    "# encapuslatino means bahr s variable ko change kr skte h to ander ka code m cahnge kr skte h  to code ft jayega y rokna k leye we use the encapsulation \n",
    " "
   ]
  },
  {
   "cell_type": "code",
   "execution_count": 16,
   "metadata": {},
   "outputs": [],
   "source": [
    "class Atm:\n",
    "\n",
    "  # constructor(special function)->superpower -> \n",
    "  def __init__(self):\n",
    "    print(id(self))\n",
    "    self.pin = ''\n",
    "    self.__balance = 0\n",
    "    #self.menu()\n",
    "\n",
    "  def get_balance(self):\n",
    "    return self.__balance\n",
    " \n",
    "  def set_balance(self,new_value):\n",
    "    if type(new_value) == int:\n",
    "      self.__balance = new_value\n",
    "    else:\n",
    "      print('beta bahot maarenge')\n",
    "\n",
    "  def __menu(self):\n",
    "    user_input = input(\"\"\"\n",
    "    Hi how can I help you?\n",
    "    1. Press 1 to create pin\n",
    "    2. Press 2 to change pin\n",
    "    3. Press 3 to check balance\n",
    "    4. Press 4 to withdraw\n",
    "    5. Anything else to exit\n",
    "    \"\"\")\n",
    "\n",
    "    if user_input == '1':\n",
    "      self.create_pin()\n",
    "    elif user_input == '2':\n",
    "      self.change_pin()\n",
    "    elif user_input == '3':\n",
    "      self.check_balance()\n",
    "    elif user_input == '4':\n",
    "      self.withdraw()\n",
    "    else:\n",
    "      exit()\n",
    "\n",
    "  def create_pin(self):\n",
    "    user_pin = input('enter your pin')\n",
    "    self.pin = user_pin\n",
    "\n",
    "    user_balance = int(input('enter balance'))\n",
    "    self.__balance = user_balance\n",
    "\n",
    "    print('pin created successfully')\n",
    "\n",
    "  def change_pin(self):\n",
    "    old_pin = input('enter old pin')\n",
    "\n",
    "    if old_pin == self.pin:\n",
    "      # let him change the pin\n",
    "      new_pin = input('enter new pin')\n",
    "      self.pin = new_pin\n",
    "      print('pin change successful')\n",
    "    else:\n",
    "      print('nai karne de sakta re baba')\n",
    "\n",
    "  def check_balance(self):\n",
    "    user_pin = input('enter your pin')\n",
    "    if user_pin == self.pin:\n",
    "      print('your balance is ',self.__balance)\n",
    "    else:\n",
    "      print('chal nikal yahan se')\n",
    "\n",
    "  def withdraw(self):\n",
    "    user_pin = input('enter the pin')\n",
    "    if user_pin == self.pin:\n",
    "      # allow to withdraw\n",
    "      amount = int(input('enter the amount'))\n",
    "      if amount <= self.__balance:\n",
    "        self.__balance = self.__balance - amount\n",
    "        print('withdrawl successful.balance is',self.__balance)\n",
    "      else:\n",
    "        print('abe garib')\n",
    "    else:\n",
    "      print('sale chor')"
   ]
  },
  {
   "cell_type": "code",
   "execution_count": 19,
   "metadata": {},
   "outputs": [
    {
     "name": "stdout",
     "output_type": "stream",
     "text": [
      "4501240528\n"
     ]
    }
   ],
   "source": [
    "obj = Atm()"
   ]
  },
  {
   "cell_type": "code",
   "execution_count": 22,
   "metadata": {},
   "outputs": [
    {
     "name": "stdout",
     "output_type": "stream",
     "text": [
      "pin created successfully\n"
     ]
    }
   ],
   "source": [
    "obj.create_pin()\n",
    "obj.balance= \"hehehe\" "
   ]
  },
  {
   "cell_type": "code",
   "execution_count": 23,
   "metadata": {},
   "outputs": [],
   "source": [
    "obj.__balance= \"heelele\"   # private variable ka valur change kr skte ho \n"
   ]
  },
  {
   "cell_type": "code",
   "execution_count": 24,
   "metadata": {},
   "outputs": [
    {
     "name": "stdout",
     "output_type": "stream",
     "text": [
      "sale chor\n"
     ]
    }
   ],
   "source": [
    "obj.withdraw()   # but yaha code fata kyu  nhi kyuki  __balance   ek naya variable hi ban gya jo ab string m convert nhi kiya kyuki wo ek naya vairable h \n",
    "# _classname__variable  y wala banega bhaiya \n",
    "\n"
   ]
  },
  {
   "cell_type": "code",
   "execution_count": 29,
   "metadata": {},
   "outputs": [
    {
     "name": "stdout",
     "output_type": "stream",
     "text": [
      "pin created successfully\n"
     ]
    }
   ],
   "source": [
    "obj.create_pin()\n",
    "obj._Atm__balance= \"hehehee\"\n"
   ]
  },
  {
   "cell_type": "code",
   "execution_count": 28,
   "metadata": {},
   "outputs": [
    {
     "name": "stdout",
     "output_type": "stream",
     "text": [
      "sale chor\n"
     ]
    }
   ],
   "source": [
    "obj.withdraw()  # code fat jaye kyuki y bacha nhi skta kuch code ko  inpython private variable bankr bhi \n"
   ]
  },
  {
   "cell_type": "code",
   "execution_count": 30,
   "metadata": {},
   "outputs": [],
   "source": [
    "# why in python is not truly private : we create it like for adult  not for child so we provide to hide but anyone want to access forcefull then you can use it \n",
    "# ___s app dekh nhi payega \n",
    " \n"
   ]
  },
  {
   "cell_type": "code",
   "execution_count": 27,
   "metadata": {},
   "outputs": [],
   "source": [
    "# how to give acccess to junior program and also give the access and also have  protect it  so we use getter and setter method "
   ]
  },
  {
   "cell_type": "code",
   "execution_count": 33,
   "metadata": {},
   "outputs": [
    {
     "data": {
      "text/plain": [
       "1000"
      ]
     },
     "execution_count": 33,
     "metadata": {},
     "output_type": "execute_result"
    }
   ],
   "source": [
    "# private ka means y hua ki class andder hi variable use krege bhr nhi k skte h \n",
    "#to kaise krge to  class k method use use krte k getter and setter method() \n",
    "# to private rkte hue bhi kaise values of change karani h getter and setter ka use krke \n",
    "\n",
    "def get_balance(self):\n",
    "    return self.__balance\n",
    "\n",
    "def set_balance(self,new_value):\n",
    "    self._balance  = new_value \n",
    "\n",
    "\n",
    "obj.get_balance()\n",
    "\n",
    "obj.set_balance(1000)\n",
    "obj.get_balance()\n",
    "\n",
    "\n"
   ]
  },
  {
   "cell_type": "code",
   "execution_count": null,
   "metadata": {},
   "outputs": [],
   "source": []
  },
  {
   "cell_type": "code",
   "execution_count": null,
   "metadata": {},
   "outputs": [],
   "source": [
    "# app sare attribute ka chupa skte ho but gettter and setter ka suse krke use outer world m lla skte ho  to sarea attirbute k leye getter and setter banana pdhta h \n",
    "\n"
   ]
  },
  {
   "cell_type": "code",
   "execution_count": 35,
   "metadata": {},
   "outputs": [
    {
     "name": "stdout",
     "output_type": "stream",
     "text": [
      "prince 23\n",
      "ankit 23\n"
     ]
    }
   ],
   "source": [
    "# collection of object \n",
    "class person :\n",
    "    def __init__(self,name, age):\n",
    "        self.name = name \n",
    "        self.age = age \n",
    "\n",
    "\n",
    "p1 = person('prince',23)\n",
    "p2 = person(\"ankit\",23)\n",
    "l=[p1,p2]\n",
    "\n",
    "for i in l:\n",
    "    print(i.name,i.age)\n"
   ]
  },
  {
   "cell_type": "code",
   "execution_count": 37,
   "metadata": {},
   "outputs": [
    {
     "ename": "KeyError",
     "evalue": "<__main__.person object at 0x10c571950>",
     "output_type": "error",
     "traceback": [
      "\u001b[0;31m---------------------------------------------------------------------------\u001b[0m",
      "\u001b[0;31mKeyError\u001b[0m                                  Traceback (most recent call last)",
      "Cell \u001b[0;32mIn[37], line 13\u001b[0m\n\u001b[1;32m     10\u001b[0m d \u001b[38;5;241m=\u001b[39m {\u001b[38;5;124m'\u001b[39m\u001b[38;5;124mp1\u001b[39m\u001b[38;5;124m'\u001b[39m:p1,\u001b[38;5;124m'\u001b[39m\u001b[38;5;124mp2\u001b[39m\u001b[38;5;124m'\u001b[39m:p2}\n\u001b[1;32m     12\u001b[0m \u001b[38;5;28;01mfor\u001b[39;00m i \u001b[38;5;129;01min\u001b[39;00m l:\n\u001b[0;32m---> 13\u001b[0m     \u001b[38;5;28mprint\u001b[39m(d[i]\u001b[38;5;241m.\u001b[39mage)\n",
      "\u001b[0;31mKeyError\u001b[0m: <__main__.person object at 0x10c571950>"
     ]
    }
   ],
   "source": [
    "# collection of object \n",
    "class person :\n",
    "    def __init__(self,name, age):\n",
    "        self.name = name \n",
    "        self.age = age \n",
    "\n",
    "\n",
    "p1 = person('prince',23)\n",
    "p2 = person(\"ankit\",23)\n",
    "d = {'p1':p1,'p2':p2}\n",
    "\n",
    "for i in l:\n",
    "    print(d[i].age) \n",
    "\n"
   ]
  },
  {
   "cell_type": "code",
   "execution_count": 38,
   "metadata": {},
   "outputs": [],
   "source": [
    "#static  kwyword\n",
    "\n",
    "# for uniwue \n",
    "# instance  variable  k  value har object different hota    ,object ke k leye hota \n",
    "# static  catiable  k avlue calss  ka variabe ,hr obej ct ka ley sam ehot a h \n",
    "\n",
    "# banking namme : instance \n",
    "# customer balance  : instance \n",
    "# ifsc code : static \n",
    "# student cgpa : instance \n",
    "# degree name : static \n",
    "\n",
    "\n",
    "# static defined outside the class \n",
    "statix ko use krne k lete class ka namme use kroge \n",
    "# instance ko use app object k thorugh kroge \n"
   ]
  },
  {
   "cell_type": "code",
   "execution_count": 39,
   "metadata": {},
   "outputs": [],
   "source": [
    "# sudhanshu sir \n"
   ]
  },
  {
   "cell_type": "code",
   "execution_count": 40,
   "metadata": {},
   "outputs": [],
   "source": [
    "class test:    # encapsulate kr dege takin ander ki cheex user ko na dekhe \n",
    "\n",
    "    def __init__(self,a,b):\n",
    "        self.a=a\n",
    "        self.b =b\n",
    "\n",
    "\n",
    "t = test(23,3)\n",
    "\n",
    "t.a\n",
    "    "
   ]
  },
  {
   "cell_type": "code",
   "execution_count": 53,
   "metadata": {},
   "outputs": [],
   "source": [
    "class car :\n",
    "    def __init__(self, year, make , model ,speed):\n",
    "        self.__year= year \n",
    "        self.__make = make\n",
    "        self.__model= model\n",
    "        self.__speed= speed \n",
    "\n",
    "    def set_speed(self,speed):\n",
    "        self.__speed = 0 if speed <  0 else speed\n",
    "\n",
    "    def get_speed(self):\n",
    "        return self.__speed\n",
    "\n",
    "\n",
    "\n"
   ]
  },
  {
   "cell_type": "code",
   "execution_count": 42,
   "metadata": {},
   "outputs": [
    {
     "ename": "AttributeError",
     "evalue": "'car' object has no attribute 'year'",
     "output_type": "error",
     "traceback": [
      "\u001b[0;31m---------------------------------------------------------------------------\u001b[0m",
      "\u001b[0;31mAttributeError\u001b[0m                            Traceback (most recent call last)",
      "Cell \u001b[0;32mIn[42], line 1\u001b[0m\n\u001b[0;32m----> 1\u001b[0m c\u001b[38;5;241m.\u001b[39myear\n",
      "\u001b[0;31mAttributeError\u001b[0m: 'car' object has no attribute 'year'"
     ]
    }
   ],
   "source": [
    "c.year"
   ]
  },
  {
   "cell_type": "code",
   "execution_count": 44,
   "metadata": {},
   "outputs": [
    {
     "data": {
      "text/plain": [
       "2012"
      ]
     },
     "execution_count": 44,
     "metadata": {},
     "output_type": "execute_result"
    }
   ],
   "source": [
    "c._car__year"
   ]
  },
  {
   "cell_type": "code",
   "execution_count": 43,
   "metadata": {},
   "outputs": [
    {
     "ename": "AttributeError",
     "evalue": "'car' object has no attribute '__year'",
     "output_type": "error",
     "traceback": [
      "\u001b[0;31m---------------------------------------------------------------------------\u001b[0m",
      "\u001b[0;31mAttributeError\u001b[0m                            Traceback (most recent call last)",
      "Cell \u001b[0;32mIn[43], line 1\u001b[0m\n\u001b[0;32m----> 1\u001b[0m c\u001b[38;5;241m.\u001b[39m__year\n",
      "\u001b[0;31mAttributeError\u001b[0m: 'car' object has no attribute '__year'"
     ]
    }
   ],
   "source": [
    "c.__year\n"
   ]
  },
  {
   "cell_type": "code",
   "execution_count": 50,
   "metadata": {},
   "outputs": [
    {
     "ename": "AttributeError",
     "evalue": "'car' object has no attribute 'set_speed'",
     "output_type": "error",
     "traceback": [
      "\u001b[0;31m---------------------------------------------------------------------------\u001b[0m",
      "\u001b[0;31mAttributeError\u001b[0m                            Traceback (most recent call last)",
      "Cell \u001b[0;32mIn[50], line 1\u001b[0m\n\u001b[0;32m----> 1\u001b[0m c\u001b[38;5;241m.\u001b[39mset_speed(\u001b[38;5;241m-\u001b[39m\u001b[38;5;241m2323\u001b[39m)\n",
      "\u001b[0;31mAttributeError\u001b[0m: 'car' object has no attribute 'set_speed'"
     ]
    }
   ],
   "source": [
    "c.set_speed(-2323)"
   ]
  },
  {
   "cell_type": "code",
   "execution_count": 54,
   "metadata": {},
   "outputs": [],
   "source": [
    "c = car(2012, \"maruti\",\"innov\",12)"
   ]
  },
  {
   "cell_type": "code",
   "execution_count": 56,
   "metadata": {},
   "outputs": [
    {
     "data": {
      "text/plain": [
       "0"
      ]
     },
     "execution_count": 56,
     "metadata": {},
     "output_type": "execute_result"
    }
   ],
   "source": [
    "c.get_speed()"
   ]
  },
  {
   "cell_type": "code",
   "execution_count": 55,
   "metadata": {},
   "outputs": [],
   "source": [
    "c.set_speed(-2332)"
   ]
  },
  {
   "cell_type": "code",
   "execution_count": null,
   "metadata": {},
   "outputs": [],
   "source": []
  },
  {
   "cell_type": "code",
   "execution_count": null,
   "metadata": {},
   "outputs": [],
   "source": []
  },
  {
   "cell_type": "code",
   "execution_count": 1,
   "metadata": {},
   "outputs": [],
   "source": [
    "import time \n",
    "\n",
    "def timer_test(func):\n",
    "    def timer_test_inner ():\n",
    "        start = time.time()\n",
    "        func()\n",
    "        end = time.time()\n",
    "        print(end -start)\n",
    "    return timer_test_inner\n",
    "        "
   ]
  },
  {
   "cell_type": "code",
   "execution_count": 3,
   "metadata": {},
   "outputs": [],
   "source": [
    "def test2():\n",
    "    print(45+78)"
   ]
  },
  {
   "cell_type": "code",
   "execution_count": 4,
   "metadata": {},
   "outputs": [
    {
     "name": "stdout",
     "output_type": "stream",
     "text": [
      "123\n"
     ]
    }
   ],
   "source": [
    "test2()"
   ]
  },
  {
   "cell_type": "code",
   "execution_count": 5,
   "metadata": {},
   "outputs": [],
   "source": [
    "@timer_test\n",
    "def test2():\n",
    "    print(45+78)"
   ]
  },
  {
   "cell_type": "code",
   "execution_count": 6,
   "metadata": {},
   "outputs": [
    {
     "name": "stdout",
     "output_type": "stream",
     "text": [
      "123\n",
      "2.5033950805664062e-05\n"
     ]
    }
   ],
   "source": [
    "test2()"
   ]
  },
  {
   "cell_type": "code",
   "execution_count": null,
   "metadata": {},
   "outputs": [],
   "source": []
  }
 ],
 "metadata": {
  "kernelspec": {
   "display_name": "base",
   "language": "python",
   "name": "python3"
  },
  "language_info": {
   "codemirror_mode": {
    "name": "ipython",
    "version": 3
   },
   "file_extension": ".py",
   "mimetype": "text/x-python",
   "name": "python",
   "nbconvert_exporter": "python",
   "pygments_lexer": "ipython3",
   "version": "3.11.6"
  }
 },
 "nbformat": 4,
 "nbformat_minor": 2
}
