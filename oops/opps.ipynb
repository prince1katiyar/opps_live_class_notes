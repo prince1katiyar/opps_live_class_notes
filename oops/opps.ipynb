{
 "cells": [
  {
   "cell_type": "code",
   "execution_count": null,
   "metadata": {},
   "outputs": [],
   "source": [
    "# what is oops ?\n",
    "# why we should use oops instead of procedural approach ? \n",
    "# what is the advatage of using oops ?\n",
    "# what is class and what is object ?\n",
    "# why we are creating object and what it is telling ?\n",
    "# how to create class and how to create object ?\n",
    "# what things we can pass inside the class and how to pass them ?\n",
    "# what is construter ?\n",
    "# what is role of construter  in oops ?\n",
    "# do we have to call the construtor ?\n",
    "# difference bwtween fucntion and method ?\n",
    "# difference variable and attribute ?\n",
    "# why we are using construter iska apki life m ky fydaa hoga ?\n",
    "#what is use of self in class ? \n",
    "# difference between parameterised and non parameterised construtor ?\n",
    "#  how to pass data , how to assingn , how to tell that this class is belong to class ?\n",
    "# how to access the value inside the class and outside the class ?\n",
    "# what is golden rule ?\n"
   ]
  },
  {
   "cell_type": "markdown",
   "metadata": {},
   "source": [
    "# oops concepts "
   ]
  },
  {
   "cell_type": "code",
   "execution_count": null,
   "metadata": {},
   "outputs": [],
   "source": [
    "# modulatrity \n",
    "# reusability\n",
    "# abstraction \n",
    "# encapsulation"
   ]
  },
  {
   "cell_type": "code",
   "execution_count": null,
   "metadata": {},
   "outputs": [],
   "source": [
    "'''\n",
    "Modularity and Reusability\n",
    "Encapsulation and Information Hiding\n",
    "Inheritance and Code Reuse\n",
    "Polymorphism and Flexibility\n",
    "Abstraction and Simplification\n",
    "'''"
   ]
  },
  {
   "cell_type": "code",
   "execution_count": null,
   "metadata": {},
   "outputs": [],
   "source": [
    "l = [1,2,3,4,5]\n",
    "l1=l.count(3)\n",
    "print(type(l))\n",
    "print(l1)"
   ]
  },
  {
   "cell_type": "code",
   "execution_count": null,
   "metadata": {},
   "outputs": [],
   "source": [
    "s = \"prince\"\n",
    "s1=s.capitalize()\n",
    "print(type(s))\n",
    "print(s1)"
   ]
  },
  {
   "cell_type": "code",
   "execution_count": null,
   "metadata": {},
   "outputs": [],
   "source": [
    "class : \"\"\"class in object-oriented programming is a blueprint or template for creating objects. It defines the properties (attributes) and behaviors (methods) that all objects of that class will have. \"\"\""
   ]
  },
  {
   "cell_type": "code",
   "execution_count": null,
   "metadata": {},
   "outputs": [],
   "source": [
    "object : \"\"\"An object is an instance of a class. It represents a specific entity or concept in the real world and encapsulates both data (attributes) and behaviors (methods). Objects are created using the class as a template, and each object has its own set of attribute values \"\"\""
   ]
  },
  {
   "cell_type": "markdown",
   "metadata": {},
   "source": [
    "# class and object "
   ]
  },
  {
   "cell_type": "code",
   "execution_count": null,
   "metadata": {},
   "outputs": [],
   "source": [
    "class test:\n",
    "    pass"
   ]
  },
  {
   "cell_type": "code",
   "execution_count": null,
   "metadata": {},
   "outputs": [],
   "source": [
    "t=test()"
   ]
  },
  {
   "cell_type": "code",
   "execution_count": null,
   "metadata": {},
   "outputs": [],
   "source": [
    "print(type(test))\n",
    "print(type(t))"
   ]
  },
  {
   "cell_type": "code",
   "execution_count": null,
   "metadata": {},
   "outputs": [],
   "source": [
    "l=list()\n",
    "print(type(l))"
   ]
  },
  {
   "cell_type": "code",
   "execution_count": null,
   "metadata": {},
   "outputs": [],
   "source": [
    "class prince:\n",
    "\n",
    "    a = 5 \n",
    "    b = 6\n",
    "\n",
    "    def welcome_msg(self):\n",
    "        print(\"welcome to my class\")"
   ]
  },
  {
   "cell_type": "code",
   "execution_count": null,
   "metadata": {},
   "outputs": [],
   "source": [
    "obj= prince()\n",
    "obj.welcome_msg()\n",
    "obj.a\n",
    "obj.b"
   ]
  },
  {
   "cell_type": "code",
   "execution_count": null,
   "metadata": {},
   "outputs": [],
   "source": [
    "# what we pass in class ?\n",
    "# variable : attirbute (insdie the class )\n",
    "# fucntion  : method  (insdie the class )\n",
    "\n",
    "# object : instance of class : vatiable of class "
   ]
  },
  {
   "cell_type": "code",
   "execution_count": null,
   "metadata": {},
   "outputs": [],
   "source": [
    "def __init__(self):\n",
    "# as we creat obj it will exceute \n",
    "# init it helps to pass the  value inside the class\n",
    "# we donot have to call the construter \n"
   ]
  },
  {
   "cell_type": "code",
   "execution_count": null,
   "metadata": {},
   "outputs": [],
   "source": [
    "class person :\n",
    "\n",
    "    def __init__(self, name , age):\n",
    "        self.name = name \n",
    "        self.age = age\n",
    "        print(self.name)\n",
    "        print(self.age) \n",
    "        self.my()\n",
    "\n",
    "    def my(self):\n",
    "        print(\"due t construter it execute \")\n",
    "\n"
   ]
  },
  {
   "cell_type": "code",
   "execution_count": null,
   "metadata": {},
   "outputs": [],
   "source": [
    "per= person (\"prince\",24)\n"
   ]
  },
  {
   "cell_type": "code",
   "execution_count": null,
   "metadata": {},
   "outputs": [],
   "source": [
    "# parameterised constructor\n",
    "class person :\n",
    "\n",
    "    def __init__(help, name , age ):\n",
    "        help.name = name \n",
    "        help.age = age\n",
    "        print(help.name)\n",
    "        print(help.age) \n",
    "        help.my()\n",
    "\n",
    "    def my(help):\n",
    "        print(\"due t construter it execute \")"
   ]
  },
  {
   "cell_type": "code",
   "execution_count": null,
   "metadata": {},
   "outputs": [],
   "source": [
    "p = person(\"prince\",24)"
   ]
  },
  {
   "cell_type": "code",
   "execution_count": null,
   "metadata": {},
   "outputs": [],
   "source": [
    "# NONparameterised constructor\n",
    "class person :\n",
    "\n",
    "    def __init__(self):\n",
    "        print(id(self))\n",
    "        self.name = \"prince\"\n",
    "        self.age = 24\n",
    "        print(self.name)\n",
    "        print(self.age) \n",
    "    \n",
    "\n",
    "    def my(self):\n",
    "        print(\"due t construter it execute \")"
   ]
  },
  {
   "cell_type": "code",
   "execution_count": null,
   "metadata": {},
   "outputs": [],
   "source": [
    "per1 = person()\n",
    "per1.my()\n",
    "print(id(per1))\n",
    "per1.my()"
   ]
  },
  {
   "cell_type": "code",
   "execution_count": null,
   "metadata": {},
   "outputs": [],
   "source": [
    "per2 = person()\n",
    "per2.my()\n",
    "print(id(per2))\n",
    "per2.my()"
   ]
  },
  {
   "cell_type": "code",
   "execution_count": null,
   "metadata": {},
   "outputs": [],
   "source": [
    "# when we use self ;: realated to variable , method and function\n",
    "# golder rule : \n",
    "# self is current object which is presern insdie the class\n",
    "# we can name anythin in place of self "
   ]
  },
  {
   "cell_type": "code",
   "execution_count": null,
   "metadata": {},
   "outputs": [],
   "source": []
  },
  {
   "cell_type": "markdown",
   "metadata": {},
   "source": [
    "# magic method "
   ]
  },
  {
   "cell_type": "markdown",
   "metadata": {},
   "source": [
    "# __init__\n",
    "# __add__\n",
    "# __mul__ \n",
    "# __str__ "
   ]
  },
  {
   "cell_type": "code",
   "execution_count": null,
   "metadata": {},
   "outputs": [],
   "source": [
    "# they are user for doing specific task on object "
   ]
  },
  {
   "cell_type": "code",
   "execution_count": null,
   "metadata": {},
   "outputs": [],
   "source": [
    "l=[23,4]\n",
    "l1=[232,23]\n",
    "l+l1\n",
    "l1*3"
   ]
  },
  {
   "cell_type": "code",
   "execution_count": null,
   "metadata": {},
   "outputs": [],
   "source": [
    "class Myclass:\n",
    "\n",
    "    def __init__(self,value):\n",
    "        self.value = value\n",
    "        print(self.value)\n",
    "\n",
    "\n",
    "    def __add__(self, other):\n",
    "        return self.value + other.value\n",
    "\n",
    "    def __sub__(self, other):\n",
    "        return self.value - other.value\n",
    "    \n",
    "\n",
    "    def __mul__(self,s):\n",
    "        return self.value * s "
   ]
  },
  {
   "cell_type": "code",
   "execution_count": null,
   "metadata": {},
   "outputs": [],
   "source": [
    "m=Myclass(23)\n",
    "m1 = Myclass(12)\n",
    "print(m - m1)\n",
    "\n",
    "m1*3 "
   ]
  },
  {
   "cell_type": "code",
   "execution_count": null,
   "metadata": {},
   "outputs": [],
   "source": [
    "m1*3 "
   ]
  },
  {
   "cell_type": "markdown",
   "metadata": {},
   "source": [
    "# Encapsulation "
   ]
  },
  {
   "cell_type": "code",
   "execution_count": null,
   "metadata": {},
   "outputs": [],
   "source": [
    "class Bankaccount:\n",
    "    def __init__(self,account_number ,balance):\n",
    "        self.account_number = account_number\n",
    "        self.balance = balance \n",
    "\n",
    "    def deposit(self,amount):\n",
    "        self.balance = self.balance + amount\n",
    "        print(\"total deposit amount is \",self.balance)\n",
    "        \n",
    "    def withdraw(self,amount):\n",
    "        if amount >= self.balance :\n",
    "            print(\"phle itne paise kaama\")\n",
    "        else:\n",
    "            self.balance = self.balance - amount\n",
    "            print(f'you can withdraw {amount} and remaining amount is {self.balance}') \n",
    "\n",
    "    def check_balance(self):\n",
    "        print(self.balance)\n",
    "\n",
    "\n",
    "    "
   ]
  },
  {
   "cell_type": "code",
   "execution_count": null,
   "metadata": {},
   "outputs": [],
   "source": [
    "ramesh = Bankaccount(\"12343\",1000)\n",
    "ramesh.deposit(500)\n",
    "ramesh.withdraw(200)\n",
    "ramesh.check_balance()\n"
   ]
  },
  {
   "cell_type": "code",
   "execution_count": null,
   "metadata": {},
   "outputs": [],
   "source": []
  },
  {
   "cell_type": "code",
   "execution_count": null,
   "metadata": {},
   "outputs": [],
   "source": []
  },
  {
   "cell_type": "markdown",
   "metadata": {},
   "source": [
    "# encapsulation "
   ]
  },
  {
   "cell_type": "code",
   "execution_count": null,
   "metadata": {},
   "outputs": [],
   "source": [
    "class person:\n",
    "    def __init__(self,name , gender):\n",
    "        self.name = name \n",
    "        self.gender = gender\n",
    "\n",
    "\n",
    "p = person(\"prince\",\"male\")\n",
    "p.name\n",
    "p.gender\n",
    "p.name"
   ]
  },
  {
   "cell_type": "code",
   "execution_count": null,
   "metadata": {},
   "outputs": [],
   "source": [
    "p=person(\"prince\",\"male\")   # acces \n",
    "q=p\n",
    "q.gender  p # p 0r q is only strong the refernce of the memory "
   ]
  },
  {
   "cell_type": "code",
   "execution_count": null,
   "metadata": {},
   "outputs": [],
   "source": [
    "p.name =\"ankit\"     # to prevent the chages in y class \n",
    "p.name"
   ]
  },
  {
   "cell_type": "code",
   "execution_count": null,
   "metadata": {},
   "outputs": [],
   "source": [
    "class person:\n",
    "    def __init__(self,name , gender):\n",
    "        self.name = name \n",
    "        self.gender = gender\n",
    "\n",
    "\n",
    "def my(person):\n",
    "    print(person.name)\n",
    "    print(person.gender)\n",
    "\n",
    "\n",
    "p = person(\"prince\",\"male\")\n",
    "\n",
    "\n",
    "my(p)\n",
    "\n",
    "\n",
    "'''you're passing an object of the person class to the greet function. When you do this in Python, you're actually passing a reference to the object. This means that any changes made to the object within the function will affect the original object outside the function. This concept is known as pass by reference.'''"
   ]
  },
  {
   "cell_type": "code",
   "execution_count": null,
   "metadata": {},
   "outputs": [],
   "source": [
    "class person:\n",
    "    def __init__(self,name , gender):\n",
    "        self.name = name \n",
    "        self.gender = gender\n",
    "\n",
    "\n",
    "def my(p):\n",
    "    print(p.name)\n",
    "    print(p.gender)\n",
    "    p1=person(\"tanweer\",\"male\")\n",
    "    return p1 \n",
    "\n",
    "\n",
    "p = person(\"prince\",\"male\")\n",
    "\n",
    "\n",
    "my1= my(p)\n",
    "my1.name\n",
    "my1.gender\n",
    "\n"
   ]
  },
  {
   "cell_type": "code",
   "execution_count": null,
   "metadata": {},
   "outputs": [],
   "source": [
    "class person:\n",
    "    def __init__(self,name , gender):\n",
    "        self.name = name \n",
    "        self.gender = gender\n",
    "\n",
    "\n",
    "def my(person):\n",
    "    print(person.name)\n",
    "    print(person.gender)\n",
    "    p.name = \"tanweer\"\n",
    "    print(p.name)\n",
    "\n",
    "\n",
    "p = person(\"prince\",\"male\")\n",
    "\n",
    "\n",
    "my(p)\n"
   ]
  },
  {
   "cell_type": "code",
   "execution_count": null,
   "metadata": {},
   "outputs": [],
   "source": [
    "class Bankaccount:\n",
    "    def __init__(self,account_number ,balance):\n",
    "        self.account_number = account_number\n",
    "        self.__balance = balance \n",
    "\n",
    "    def deposit(self,amount):\n",
    "        self.__balance = self.__balance + amount\n",
    "        print(\"total deposit amount is \",self.__balance)\n",
    "        \n",
    "    def withdraw(self,amount):\n",
    "        if amount >= self.__balance :\n",
    "            print(\"phle itne paise kaama\")\n",
    "        else:\n",
    "            self.__balance = self.__balance - amount\n",
    "            print(f'you can withdraw {amount} and remaining amount is {self.__balance}') \n",
    "\n",
    "    def check_balance(self):\n",
    "        print(self.__balance)"
   ]
  },
  {
   "cell_type": "code",
   "execution_count": null,
   "metadata": {},
   "outputs": [],
   "source": [
    "ramesh = Bankaccount(\"12343\",1000)\n",
    "ramesh.deposit(500)\n",
    "ramesh.withdraw(200)\n",
    "ramesh.check_balance()"
   ]
  },
  {
   "cell_type": "code",
   "execution_count": null,
   "metadata": {},
   "outputs": [],
   "source": [
    "# -- to make a variable or method private \n",
    "# in python we canot make anything complety private\n",
    "\n",
    "# hwo to acccess : \n",
    "## getter method ()\n",
    "## setter method () "
   ]
  },
  {
   "cell_type": "code",
   "execution_count": null,
   "metadata": {},
   "outputs": [],
   "source": [
    "ramesh = Bankaccount(\"12343\",1000)\n",
    "ramesh.__balance\n",
    "ramesh.deposit(500)"
   ]
  },
  {
   "cell_type": "code",
   "execution_count": null,
   "metadata": {},
   "outputs": [],
   "source": [
    "ramesh = Bankaccount(\"12343\",1000)\n",
    "ramesh._Bankaccount__balance\n",
    "ramesh.deposit(500)\n"
   ]
  },
  {
   "cell_type": "code",
   "execution_count": null,
   "metadata": {},
   "outputs": [],
   "source": []
  },
  {
   "cell_type": "markdown",
   "metadata": {},
   "source": [
    "# setter and getter method"
   ]
  },
  {
   "cell_type": "code",
   "execution_count": null,
   "metadata": {},
   "outputs": [],
   "source": [
    "class car:\n",
    "    def __init__(self,year, make,model , speed):\n",
    "        self.__year = year\n",
    "        self.__make = make\n",
    "        self.__model = model\n",
    "        self.__speed= 0\n",
    "\n",
    "\n",
    "    def set_speed(self,speed):\n",
    "        self.__speed=0  if speed < 0 else speed \n",
    "\n",
    "\n",
    "    def get_speed(self):\n",
    "        return self.__speed\n",
    "\n"
   ]
  },
  {
   "cell_type": "code",
   "execution_count": null,
   "metadata": {},
   "outputs": [],
   "source": [
    "c = car(2021, \"toyata\",\"toyata1\",12)\n",
    "c.__speed\n"
   ]
  },
  {
   "cell_type": "code",
   "execution_count": null,
   "metadata": {},
   "outputs": [],
   "source": [
    "c.get_speed()"
   ]
  },
  {
   "cell_type": "code",
   "execution_count": null,
   "metadata": {},
   "outputs": [],
   "source": [
    "c.set_speed(123)\n",
    "c.get_speed()\n"
   ]
  },
  {
   "cell_type": "code",
   "execution_count": null,
   "metadata": {},
   "outputs": [],
   "source": [
    "class bank_account: \n",
    "\n",
    "    bank_name = \"Mybank\"    # static variable \n",
    "\n",
    "\n",
    "    def __init__(self,balance ):\n",
    "        self.__balance= balance \n",
    "\n",
    "\n",
    "    def deposit(self,amount):\n",
    "        self.__balance = self.__balance + amount\n",
    "        print(self.__balance)\n",
    "\n",
    "\n",
    "    def withdraw(self,amount):\n",
    "        if self.__balance>=amount :\n",
    "            self.__balance = self.__balance - amount \n",
    "            print(self.__balance)\n",
    "        else:\n",
    "            print(\"phle itne paise kaama l\")\n",
    "\n",
    "\n",
    "    def get_balance(self):\n",
    "        return self.__balance"
   ]
  },
  {
   "cell_type": "code",
   "execution_count": null,
   "metadata": {},
   "outputs": [],
   "source": [
    "b= bank_account(1000)\n",
    "b1 = bank_account(2000)\n",
    "b3=bank_account(3000)"
   ]
  },
  {
   "cell_type": "code",
   "execution_count": null,
   "metadata": {},
   "outputs": [],
   "source": [
    "b.deposit(500)"
   ]
  },
  {
   "cell_type": "code",
   "execution_count": null,
   "metadata": {},
   "outputs": [],
   "source": [
    "b.withdraw(200)"
   ]
  },
  {
   "cell_type": "code",
   "execution_count": null,
   "metadata": {},
   "outputs": [],
   "source": [
    "# static and instance variable \n",
    "\n",
    "# instance varible store valur for a period of object life time \n",
    "# static variable store value for a period of class life time\n",
    "\n",
    "\n",
    "#instance varibel can access  through object\n",
    "#static variable can access through class\n",
    "\n",
    "\n",
    "#instance vairable is realted to object \n",
    "#static variable is realted to class"
   ]
  },
  {
   "cell_type": "code",
   "execution_count": null,
   "metadata": {},
   "outputs": [],
   "source": [
    "class bank_account: \n",
    "\n",
    "    bank_name = \"Mybank\"    # static variable \n",
    "\n",
    "\n",
    "    def __init__(self,balance ):\n",
    "        self.__balance= balance \n",
    "\n",
    "\n",
    "    def deposit(self,amount):\n",
    "        self.__balance = self.__balance + amount\n",
    "        print(self.__balance)\n",
    "\n",
    "\n",
    "    def withdraw(self,amount):\n",
    "        if self.__balance>=amount :\n",
    "            self.__balance = self.__balance - amount \n",
    "            print(self.__balance)\n",
    "        else:\n",
    "            print(\"phle itne paise kaama l\")\n",
    "\n",
    "\n",
    "    def get_balance(self):\n",
    "        return self.__balance"
   ]
  },
  {
   "cell_type": "code",
   "execution_count": null,
   "metadata": {},
   "outputs": [],
   "source": [
    "bank_account.bank_name"
   ]
  },
  {
   "cell_type": "code",
   "execution_count": null,
   "metadata": {},
   "outputs": [],
   "source": [
    "b= bank_account(1000)\n",
    "b.get_balance()"
   ]
  },
  {
   "cell_type": "code",
   "execution_count": null,
   "metadata": {},
   "outputs": [],
   "source": [
    "# static method and instance method\n",
    "# static method   : \n",
    "# instance method "
   ]
  },
  {
   "cell_type": "markdown",
   "metadata": {},
   "source": [
    "# Inheritance "
   ]
  },
  {
   "cell_type": "code",
   "execution_count": null,
   "metadata": {},
   "outputs": [],
   "source": [
    "# what is inheritance ?\n",
    "# real life examples to use the inheritance ?\n",
    "# what is super class and sub class ? \n",
    "# why  we use it  ?\n",
    "# where we use it ?\n",
    "# which things we can inherit ?\n",
    "# which we cannot iherit ?\n",
    "# what is use of super keyword ?\n",
    "# what is the concpet overriding ?\n",
    "# what are the types of inhertiance ? \n",
    "#"
   ]
  },
  {
   "cell_type": "code",
   "execution_count": null,
   "metadata": {},
   "outputs": [],
   "source": [
    "\"\"\"\n",
    "2. Superclasses and Subclasses:\n",
    "Superclass: Also known as a parent class or base class, it's the class from which other classes inherit.\n",
    "Subclass: Also known as a derived class or child class, it's the class that inherits from another class.\n",
    "\"\"\""
   ]
  },
  {
   "cell_type": "code",
   "execution_count": null,
   "metadata": {},
   "outputs": [],
   "source": [
    "class test :\n",
    "\n",
    "\n",
    "    def __init__(self,name):\n",
    "        self.name = \"prince\"\n",
    "\n",
    "\n",
    "    def test_1(self):\n",
    "        return \"this is my first class  \""
   ]
  },
  {
   "cell_type": "code",
   "execution_count": null,
   "metadata": {},
   "outputs": [],
   "source": [
    "class child_test(test):\n",
    "    pass "
   ]
  },
  {
   "cell_type": "code",
   "execution_count": null,
   "metadata": {},
   "outputs": [],
   "source": [
    "child= child_test(\"prince\")\n",
    "child.test_1()\n"
   ]
  },
  {
   "cell_type": "code",
   "execution_count": null,
   "metadata": {},
   "outputs": [],
   "source": [
    "child.name"
   ]
  },
  {
   "cell_type": "code",
   "execution_count": null,
   "metadata": {},
   "outputs": [],
   "source": []
  },
  {
   "cell_type": "code",
   "execution_count": null,
   "metadata": {},
   "outputs": [],
   "source": []
  },
  {
   "cell_type": "code",
   "execution_count": null,
   "metadata": {},
   "outputs": [],
   "source": []
  },
  {
   "cell_type": "markdown",
   "metadata": {},
   "source": [
    "# benefit of use Inheritance \n"
   ]
  },
  {
   "cell_type": "code",
   "execution_count": null,
   "metadata": {},
   "outputs": [],
   "source": [
    "'''\n",
    "\n",
    "Code Reusability: Inheritance enables you to reuse existing code, reducing redundancy and promoting cleaner, more maintainable codebases.\n",
    "\n",
    "Modularity and Extensibility: It fosters modularity by organizing code into logical hierarchies, making it easier to understand, maintain, and extend. New features can be added by creating subclasses or overriding existing behavior.\n",
    "\n",
    "Polymorphism and Flexibility: Inheritance facilitates polymorphic behavior, allowing objects of different classes to be treated interchangeably if they share a common superclass. This enhances flexibility and adaptability in handling diverse object types.\n",
    "\n",
    "'''"
   ]
  },
  {
   "cell_type": "code",
   "execution_count": null,
   "metadata": {},
   "outputs": [],
   "source": []
  },
  {
   "cell_type": "code",
   "execution_count": null,
   "metadata": {},
   "outputs": [],
   "source": []
  },
  {
   "cell_type": "code",
   "execution_count": null,
   "metadata": {},
   "outputs": [],
   "source": []
  },
  {
   "cell_type": "markdown",
   "metadata": {},
   "source": [
    "# what we can inherit "
   ]
  },
  {
   "cell_type": "code",
   "execution_count": null,
   "metadata": {},
   "outputs": [],
   "source": [
    "\"\"\"\n",
    "\n",
    "What can be inherited:\n",
    "\n",
    "\n",
    "Attributes: Subclasses inherit all attributes (both data attributes and methods) from the parent class unless explicitly overridden.\n",
    "\n",
    "Methods: Subclasses inherit all methods defined in the parent class unless overridden.\n",
    "\n",
    "Constructor: Subclasses inherit the constructor (__init__() method) of the parent class unless explicitly overridden. However, the constructor of the parent class needs to be called explicitly within the subclass constructor if needed.\n",
    "\n",
    "\n",
    "\n",
    "Class variables: Subclasses inherit class variables from the parent class.\n",
    "\n",
    "Class methods and static methods: Subclasses inherit class methods and static methods from the parent class.\"\"\"\n",
    "\n",
    "\"\"\""
   ]
  },
  {
   "cell_type": "code",
   "execution_count": null,
   "metadata": {},
   "outputs": [],
   "source": [
    "class test :\n",
    "\n",
    "\n",
    "    def __init__(self,name):\n",
    "        self.name = \"prince\"     # data atibute \n",
    "\n",
    "\n",
    "    def test_1(self):\n",
    "        return \"this is my first class  \"\n",
    "    \n",
    "\n",
    "    @staticmethod\n",
    "    def static_method():\n",
    "        print(\"this is my static method \")"
   ]
  },
  {
   "cell_type": "code",
   "execution_count": null,
   "metadata": {},
   "outputs": [],
   "source": [
    "child= child_test(\"prince\")\n",
    "child.test_1()\n",
    "child.name\n"
   ]
  },
  {
   "cell_type": "code",
   "execution_count": null,
   "metadata": {},
   "outputs": [],
   "source": []
  },
  {
   "cell_type": "code",
   "execution_count": null,
   "metadata": {},
   "outputs": [],
   "source": []
  },
  {
   "cell_type": "code",
   "execution_count": null,
   "metadata": {},
   "outputs": [],
   "source": []
  },
  {
   "cell_type": "code",
   "execution_count": null,
   "metadata": {},
   "outputs": [],
   "source": []
  },
  {
   "cell_type": "code",
   "execution_count": null,
   "metadata": {},
   "outputs": [],
   "source": []
  },
  {
   "cell_type": "markdown",
   "metadata": {},
   "source": [
    "# construter "
   ]
  },
  {
   "cell_type": "code",
   "execution_count": null,
   "metadata": {},
   "outputs": [],
   "source": [
    "class phone:\n",
    "\n",
    "\n",
    "    def __init__(self,price,brand):\n",
    "        print(\"hmm construter k ander aa chuke h \")\n",
    "        self.price = price\n",
    "        self.brand = brand\n",
    "      \n",
    "\n",
    "    def buy(self):\n",
    "        print(\"phone khridna h \")\n",
    "\n",
    "\n",
    "class mobilephone(phone):\n",
    "    pass \n"
   ]
  },
  {
   "cell_type": "code",
   "execution_count": null,
   "metadata": {},
   "outputs": [],
   "source": [
    "s = mobilephone(2000, \"MOTO\")"
   ]
  },
  {
   "cell_type": "code",
   "execution_count": null,
   "metadata": {},
   "outputs": [],
   "source": [
    "class phone:\n",
    "\n",
    "\n",
    "    def __init__(self,price,brand):\n",
    "        print(\"hmm construter k ander aa chuke h \")\n",
    "        self.price = price\n",
    "        self.brand = brand\n",
    "      \n",
    "\n",
    "    def buy(self):\n",
    "        print(\"phone khridna h \")\n",
    "\n",
    "\n",
    "class mobilephone(phone):\n",
    "    print(\"ths is my child class construter \")\n",
    "    def __init__(self,os,ram):\n",
    "        self.os  = os\n",
    "        self.ram = ram\n",
    "\n",
    "    def buy(self):\n",
    "        print(\"phone khridna h \")\n",
    "\n",
    "\n",
    "    \n"
   ]
  },
  {
   "cell_type": "code",
   "execution_count": null,
   "metadata": {},
   "outputs": [],
   "source": [
    "s = mobilephone(2000, \"MOTO\")"
   ]
  },
  {
   "cell_type": "code",
   "execution_count": null,
   "metadata": {},
   "outputs": [],
   "source": [
    "s.os"
   ]
  },
  {
   "cell_type": "code",
   "execution_count": null,
   "metadata": {},
   "outputs": [],
   "source": [
    "s.price"
   ]
  },
  {
   "cell_type": "code",
   "execution_count": null,
   "metadata": {},
   "outputs": [],
   "source": []
  },
  {
   "cell_type": "markdown",
   "metadata": {},
   "source": [
    "# what we cannot inherit \n"
   ]
  },
  {
   "cell_type": "code",
   "execution_count": null,
   "metadata": {},
   "outputs": [],
   "source": [
    "\"\"\"\n",
    "What cannot be inherited:\n",
    "\n",
    "\n",
    "Private members: Members with a double underscore prefix (__) are considered private and cannot be directly inherited by subclasses. However, they can sometimes be accessed or modified using name mangling.\n",
    "\n",
    "Special methods: Special methods (e.g., __str__(), __repr__(), __add__(), etc.) need to be explicitly overridden in the subclass if required. They are not inherited by default.\n",
    "\n",
    "Class-level attributes that are not defined in the parent class: If a class-level attribute is added in the subclass that is not defined in the parent class, it will not be inherited by other subclasses or instances of the parent class.\n",
    "\n",
    "\"\"\""
   ]
  },
  {
   "cell_type": "code",
   "execution_count": null,
   "metadata": {},
   "outputs": [],
   "source": [
    "# "
   ]
  },
  {
   "cell_type": "markdown",
   "metadata": {},
   "source": [
    "# private variables"
   ]
  },
  {
   "cell_type": "code",
   "execution_count": null,
   "metadata": {},
   "outputs": [],
   "source": [
    "class device : \n",
    "    def __init__(self,cost,manufacturer,camera):\n",
    "        print(\"we are insdie the construter\")\n",
    "        self.__cost = cost\n",
    "        self.manufacturer = manufacturer\n",
    "        self.camera = camera\n",
    "    # getter fun \n",
    "    def show(self):\n",
    "        print(self.__cost)\n",
    "\n",
    "\n",
    "class mobile(device):\n",
    "\n",
    "     # getter fun \n",
    "    def check(self):\n",
    "        print(self.__cost)\n",
    "\n",
    "\n"
   ]
  },
  {
   "cell_type": "code",
   "execution_count": null,
   "metadata": {},
   "outputs": [],
   "source": [
    "m = mobile(2003,\"moto\",\"dslr\")"
   ]
  },
  {
   "cell_type": "code",
   "execution_count": null,
   "metadata": {},
   "outputs": [],
   "source": [
    "m.check()"
   ]
  },
  {
   "cell_type": "code",
   "execution_count": null,
   "metadata": {},
   "outputs": [],
   "source": [
    "m.__cost"
   ]
  },
  {
   "cell_type": "code",
   "execution_count": null,
   "metadata": {},
   "outputs": [],
   "source": [
    "m.show()"
   ]
  },
  {
   "cell_type": "code",
   "execution_count": null,
   "metadata": {},
   "outputs": [],
   "source": []
  },
  {
   "cell_type": "markdown",
   "metadata": {},
   "source": [
    "# super()\n"
   ]
  },
  {
   "cell_type": "code",
   "execution_count": null,
   "metadata": {},
   "outputs": [],
   "source": [
    "class person:\n",
    "    def __init__(self,name,age ):\n",
    "        self.name = name \n",
    "        self.age = age \n",
    "\n",
    "\n",
    "    def display(self):\n",
    "        print(self.name ,self.age )\n",
    "\n",
    "\n",
    "\n",
    "class student(person):\n",
    "    def __init__(self,name, age ):\n",
    "        self.sName = name \n",
    "        self.sAge = age \n",
    "\n",
    "        super().__init__(\"tanweeer\",25)\n",
    "\n",
    "\n",
    "    def displayInfo(self):\n",
    "        print(self.sName,self.sAge)\n"
   ]
  },
  {
   "cell_type": "code",
   "execution_count": null,
   "metadata": {},
   "outputs": [],
   "source": [
    "obj= student(\"prince\",24)\n",
    "\n"
   ]
  },
  {
   "cell_type": "code",
   "execution_count": null,
   "metadata": {},
   "outputs": [],
   "source": [
    "obj.display()"
   ]
  },
  {
   "cell_type": "code",
   "execution_count": null,
   "metadata": {},
   "outputs": [],
   "source": [
    "obj.displayInfo()"
   ]
  },
  {
   "cell_type": "code",
   "execution_count": null,
   "metadata": {},
   "outputs": [],
   "source": []
  },
  {
   "cell_type": "code",
   "execution_count": null,
   "metadata": {},
   "outputs": [],
   "source": []
  },
  {
   "cell_type": "code",
   "execution_count": null,
   "metadata": {},
   "outputs": [],
   "source": []
  },
  {
   "cell_type": "markdown",
   "metadata": {},
   "source": [
    "# overriding "
   ]
  },
  {
   "cell_type": "code",
   "execution_count": null,
   "metadata": {},
   "outputs": [],
   "source": [
    "class phone :\n",
    "    def __init__(self,price , brand , camera ):\n",
    "        print(\"inside the constructor\")\n",
    "\n",
    "        self.price= price\n",
    "        self.brand = brand \n",
    "        self.camera = camera\n",
    "\n",
    "        def buy(self):\n",
    "            print(\"buying a phone \")\n",
    "\n",
    "\n",
    "\n",
    "\n",
    "class smartphone(phone):\n",
    "    \n",
    "    def buy(self):\n",
    "        print(\"buying a smartphone \")\n",
    "\n",
    "\n",
    "\n"
   ]
  },
  {
   "cell_type": "code",
   "execution_count": null,
   "metadata": {},
   "outputs": [],
   "source": [
    "s= smartphone(2000,\"moto\",\"5mp\")"
   ]
  },
  {
   "cell_type": "code",
   "execution_count": null,
   "metadata": {},
   "outputs": [],
   "source": [
    "s.buy()"
   ]
  },
  {
   "cell_type": "code",
   "execution_count": null,
   "metadata": {},
   "outputs": [],
   "source": []
  },
  {
   "cell_type": "code",
   "execution_count": null,
   "metadata": {},
   "outputs": [],
   "source": []
  },
  {
   "cell_type": "code",
   "execution_count": null,
   "metadata": {},
   "outputs": [],
   "source": []
  },
  {
   "cell_type": "code",
   "execution_count": null,
   "metadata": {},
   "outputs": [],
   "source": []
  },
  {
   "cell_type": "code",
   "execution_count": null,
   "metadata": {},
   "outputs": [],
   "source": []
  },
  {
   "cell_type": "markdown",
   "metadata": {},
   "source": [
    "# types of Inheritance "
   ]
  },
  {
   "cell_type": "code",
   "execution_count": null,
   "metadata": {},
   "outputs": [],
   "source": [
    "# multi level\n"
   ]
  },
  {
   "cell_type": "code",
   "execution_count": null,
   "metadata": {},
   "outputs": [],
   "source": [
    "class device : \n",
    "    def __init__(self,cost,manufacturer,camera):\n",
    "        print(\"we are insdie the construter\")\n",
    "        self.__cost = cost\n",
    "        self.manufacturer = manufacturer\n",
    "        self.camera = camera\n",
    "\n",
    "\n",
    "    def buy(self):\n",
    "        print(\"buying da device \")\n",
    "\n",
    "\n",
    "\n",
    "class mobile(device):\n",
    "    print(\"y sencod wala \")\n",
    "\n",
    "\n",
    "\n",
    "\n",
    "class smartPhone(mobile):\n",
    "    pass\n",
    "\n",
    "\n",
    "\n"
   ]
  },
  {
   "cell_type": "code",
   "execution_count": null,
   "metadata": {},
   "outputs": [],
   "source": [
    "m = mobile(1000,\"moto\",\"dslr\")"
   ]
  },
  {
   "cell_type": "code",
   "execution_count": null,
   "metadata": {},
   "outputs": [],
   "source": []
  },
  {
   "cell_type": "code",
   "execution_count": null,
   "metadata": {},
   "outputs": [],
   "source": []
  },
  {
   "cell_type": "markdown",
   "metadata": {},
   "source": [
    "# Day 4 "
   ]
  },
  {
   "cell_type": "markdown",
   "metadata": {},
   "source": [
    "## polymorphism \n",
    "## types of Inheritance \n",
    "## class and static method "
   ]
  },
  {
   "cell_type": "markdown",
   "metadata": {},
   "source": [
    "# multilevel inheritance "
   ]
  },
  {
   "cell_type": "code",
   "execution_count": null,
   "metadata": {},
   "outputs": [],
   "source": [
    "class device :\n",
    "    def review(self):\n",
    "        print(\"product is good \")\n",
    "\n",
    "class phone(device ):\n",
    "    def __init__(self,price,brand , camera):\n",
    "        self.price = price\n",
    "        self.brand = brand\n",
    "        self.camera = camera\n",
    "\n",
    "\n",
    "    def buy(self):\n",
    "        print(\"buying a phone \")\n",
    "\n",
    "\n",
    "\n",
    "class smartphone:\n",
    "    pass \n"
   ]
  },
  {
   "cell_type": "code",
   "execution_count": null,
   "metadata": {},
   "outputs": [],
   "source": [
    "s = smartphone(2200,\"apple\",\"10mp\")"
   ]
  },
  {
   "cell_type": "code",
   "execution_count": 2,
   "metadata": {},
   "outputs": [],
   "source": [
    "class device :\n",
    "    def review(self):\n",
    "        print(\"product is good \")\n",
    "\n",
    "class phone(device ):\n",
    "    def __init__(self,price,brand , camera):\n",
    "        self.price = price\n",
    "        self.brand = brand\n",
    "        self.camera = camera\n",
    "\n",
    "\n",
    "    def buy(self):\n",
    "        print(\"buying a phone \")\n",
    "\n",
    "\n",
    "\n",
    "class smartphone(phone):\n",
    "    pass \n"
   ]
  },
  {
   "cell_type": "code",
   "execution_count": 5,
   "metadata": {},
   "outputs": [
    {
     "name": "stdout",
     "output_type": "stream",
     "text": [
      "buying a phone \n",
      "product is good \n"
     ]
    }
   ],
   "source": [
    "s = smartphone(2200,\"apple\",\"10mp\")\n",
    "s.buy()\n",
    "s.review()"
   ]
  },
  {
   "cell_type": "code",
   "execution_count": 6,
   "metadata": {},
   "outputs": [],
   "source": [
    "# hierarchical "
   ]
  },
  {
   "cell_type": "code",
   "execution_count": 7,
   "metadata": {},
   "outputs": [],
   "source": [
    "\n",
    "class device:\n",
    "    def __init__(self,price,brand , camera):\n",
    "        self.price = price\n",
    "        self.brand = brand\n",
    "        self.camera = camera\n",
    "\n",
    "    def buy(self):\n",
    "        print(\"buying a device \")\n",
    "\n",
    "\n",
    "class smartphone(device ):\n",
    "    pass\n",
    "\n",
    "class samrtphone1(device):\n",
    "    pass "
   ]
  },
  {
   "cell_type": "code",
   "execution_count": 10,
   "metadata": {},
   "outputs": [
    {
     "data": {
      "text/plain": [
       "'100mp'"
      ]
     },
     "execution_count": 10,
     "metadata": {},
     "output_type": "execute_result"
    }
   ],
   "source": [
    "s= smartphone(2000,\"apple\",\"100mp\")\n",
    "s.camera\n"
   ]
  },
  {
   "cell_type": "code",
   "execution_count": 12,
   "metadata": {},
   "outputs": [
    {
     "name": "stdout",
     "output_type": "stream",
     "text": [
      "buying a device \n"
     ]
    }
   ],
   "source": [
    "s1= samrtphone1(2000,\"apple\",\"100mp\")\n",
    "s1.camera\n",
    "s1.buy()"
   ]
  },
  {
   "cell_type": "code",
   "execution_count": null,
   "metadata": {},
   "outputs": [],
   "source": [
    "# multiple inheritance\n"
   ]
  },
  {
   "cell_type": "code",
   "execution_count": null,
   "metadata": {},
   "outputs": [],
   "source": [
    "class phone:\n",
    "\n",
    "    def __init__(self,price,brand , camera):\n",
    "        self.price = price\n",
    "        self.brand = brand\n",
    "        self.camera = camera\n",
    "\n",
    "\n",
    "\n",
    "    def buy(self):\n",
    "        print(\"buying a phone \")\n",
    "\n",
    "\n",
    "\n",
    "class product :\n",
    "    def review(self):\n",
    "        print(\"product is good \")\n",
    "\n",
    "class  smartphone(phone ,product):\n",
    "    pass\n",
    "\n"
   ]
  },
  {
   "cell_type": "code",
   "execution_count": 13,
   "metadata": {},
   "outputs": [
    {
     "name": "stdout",
     "output_type": "stream",
     "text": [
      "buying a device \n"
     ]
    }
   ],
   "source": [
    "s = smartphone(2200,\"apple\",\"10mp\")\n",
    "s.buy()\n"
   ]
  },
  {
   "cell_type": "code",
   "execution_count": null,
   "metadata": {},
   "outputs": [],
   "source": []
  },
  {
   "cell_type": "markdown",
   "metadata": {},
   "source": [
    "# class method "
   ]
  },
  {
   "cell_type": "code",
   "execution_count": 24,
   "metadata": {},
   "outputs": [],
   "source": [
    "class ineuron:\n",
    "    def __init__(self,name ,email):\n",
    "        self.name = name\n",
    "        self.email = email\n",
    "\n",
    "    \n",
    "    @classmethod\n",
    "    def details(cls,name , email ):\n",
    "        return cls(name ,email )\n",
    "\n",
    "    def students_details(self):\n",
    "        print(self.name ,self.email)"
   ]
  },
  {
   "cell_type": "code",
   "execution_count": 22,
   "metadata": {},
   "outputs": [],
   "source": [
    "in1 = ineuron(\"prince\",\"prince@ineuron\")\n"
   ]
  },
  {
   "cell_type": "code",
   "execution_count": 27,
   "metadata": {},
   "outputs": [
    {
     "data": {
      "text/plain": [
       "'prince@ineuron'"
      ]
     },
     "execution_count": 27,
     "metadata": {},
     "output_type": "execute_result"
    }
   ],
   "source": [
    "ineuron.details(\"prince\",\"prince@ineuron\").email"
   ]
  },
  {
   "cell_type": "code",
   "execution_count": 44,
   "metadata": {},
   "outputs": [],
   "source": [
    "class ineuron2:\n",
    "\n",
    "    mobile_num= 1234567890\n",
    "\n",
    "    def __init__(self,name ,email):\n",
    "        self.name = name\n",
    "        self.email = email\n",
    "\n",
    "    \n",
    "    @classmethod\n",
    "    def change_number(cls,mobile):\n",
    "        ineuron2.mobile_num= mobile \n",
    "\n",
    "\n",
    "    @classmethod\n",
    "    def details(cls,name , email ):\n",
    "        return cls(name ,email )\n",
    "\n",
    "    def students_details(self):\n",
    "        print(self.name ,self.email,ineuron2.mobile_num)"
   ]
  },
  {
   "cell_type": "code",
   "execution_count": 45,
   "metadata": {},
   "outputs": [
    {
     "data": {
      "text/plain": [
       "1234567890"
      ]
     },
     "execution_count": 45,
     "metadata": {},
     "output_type": "execute_result"
    }
   ],
   "source": [
    "ineuron2.mobile_num"
   ]
  },
  {
   "cell_type": "code",
   "execution_count": 46,
   "metadata": {},
   "outputs": [
    {
     "data": {
      "text/plain": [
       "42322"
      ]
     },
     "execution_count": 46,
     "metadata": {},
     "output_type": "execute_result"
    }
   ],
   "source": [
    "ineuron2.change_number(42322)\n",
    "ineuron2.mobile_num\n"
   ]
  },
  {
   "cell_type": "code",
   "execution_count": 47,
   "metadata": {},
   "outputs": [
    {
     "name": "stdout",
     "output_type": "stream",
     "text": [
      "ayush ayush@ineuron 42322\n"
     ]
    }
   ],
   "source": [
    "in2 = ineuron2(\"ayush\",\"ayush@ineuron\")\n",
    "in2.students_details()"
   ]
  },
  {
   "cell_type": "code",
   "execution_count": 49,
   "metadata": {},
   "outputs": [],
   "source": [
    "def mentor(cls,lsit_of_mentors):\n",
    "    print(lsit_of_mentors)"
   ]
  },
  {
   "cell_type": "code",
   "execution_count": 50,
   "metadata": {},
   "outputs": [
    {
     "name": "stdout",
     "output_type": "stream",
     "text": [
      "['ayush', 'ayush@gmail.com']\n"
     ]
    }
   ],
   "source": [
    "ineuron2.mentor=classmethod(mentor)\n",
    "ineuron2.mentor([\"ayush\",\"ayush@gmail.com\"])"
   ]
  },
  {
   "cell_type": "code",
   "execution_count": 51,
   "metadata": {},
   "outputs": [],
   "source": [
    "del ineuron2.change_number"
   ]
  },
  {
   "cell_type": "code",
   "execution_count": null,
   "metadata": {},
   "outputs": [],
   "source": []
  },
  {
   "cell_type": "markdown",
   "metadata": {},
   "source": [
    "# static method"
   ]
  },
  {
   "cell_type": "markdown",
   "metadata": {},
   "source": [
    " class ineuron3:"
   ]
  },
  {
   "cell_type": "code",
   "execution_count": 53,
   "metadata": {},
   "outputs": [],
   "source": [
    "class ineuron3:\n",
    "    def student_details(self,name , email ):\n",
    "        print(name , email )\n"
   ]
  },
  {
   "cell_type": "code",
   "execution_count": 55,
   "metadata": {},
   "outputs": [
    {
     "name": "stdout",
     "output_type": "stream",
     "text": [
      "prince prince@ineuron\n"
     ]
    }
   ],
   "source": [
    "in3 = ineuron3()\n",
    "in3.student_details(\"prince\",\"prince@ineuron\")"
   ]
  },
  {
   "cell_type": "code",
   "execution_count": 60,
   "metadata": {},
   "outputs": [],
   "source": [
    "class ineuron3:\n",
    "    def student_details(self,name , email ):\n",
    "        print(name , email )\n",
    "\n",
    "\n",
    "    @staticmethod\n",
    "    def mentor_class(lsit_mentor):\n",
    "        print(lsit_mentor)\n",
    "\n",
    "\n",
    "    @classmethod\n",
    "    def class_name(cls, class_name):\n",
    "        cls.mentor_class([\"prince\",\"sudh\"])\n",
    "       \n",
    "\n",
    "\n",
    "    def mentor(self,mentor_list):\n",
    "        print(mentor_list)"
   ]
  },
  {
   "cell_type": "code",
   "execution_count": 58,
   "metadata": {},
   "outputs": [
    {
     "name": "stdout",
     "output_type": "stream",
     "text": [
      "['prince', 'sudh']\n"
     ]
    }
   ],
   "source": [
    "ineuron3.mentor_class([\"prince\",\"sudh\"])"
   ]
  },
  {
   "cell_type": "code",
   "execution_count": 59,
   "metadata": {},
   "outputs": [],
   "source": [
    "stu1 = ineuron3()"
   ]
  },
  {
   "cell_type": "code",
   "execution_count": 62,
   "metadata": {},
   "outputs": [
    {
     "name": "stdout",
     "output_type": "stream",
     "text": [
      "['prince', 'sudh']\n"
     ]
    }
   ],
   "source": [
    "ineuron3.class_name([\"prince\"])"
   ]
  },
  {
   "cell_type": "code",
   "execution_count": null,
   "metadata": {},
   "outputs": [],
   "source": []
  },
  {
   "cell_type": "markdown",
   "metadata": {},
   "source": [
    "# polymorphism "
   ]
  },
  {
   "cell_type": "code",
   "execution_count": null,
   "metadata": {},
   "outputs": [],
   "source": [
    "# operator overloading\n",
    "# method overloading\n",
    "\n"
   ]
  },
  {
   "cell_type": "code",
   "execution_count": 65,
   "metadata": {},
   "outputs": [],
   "source": [
    "def test(a,b):\n",
    "    return a+b "
   ]
  },
  {
   "cell_type": "code",
   "execution_count": 66,
   "metadata": {},
   "outputs": [
    {
     "data": {
      "text/plain": [
       "7"
      ]
     },
     "execution_count": 66,
     "metadata": {},
     "output_type": "execute_result"
    }
   ],
   "source": [
    "test(3,4)   # sum ()"
   ]
  },
  {
   "cell_type": "code",
   "execution_count": 68,
   "metadata": {},
   "outputs": [
    {
     "data": {
      "text/plain": [
       "'princekatiyar'"
      ]
     },
     "execution_count": 68,
     "metadata": {},
     "output_type": "execute_result"
    }
   ],
   "source": [
    "test(\"prince\",\"katiyar\")   # concatenation"
   ]
  },
  {
   "cell_type": "code",
   "execution_count": null,
   "metadata": {},
   "outputs": [],
   "source": [
    "# method overloading"
   ]
  },
  {
   "cell_type": "code",
   "execution_count": 69,
   "metadata": {},
   "outputs": [],
   "source": [
    "class python:\n",
    "    def syllabus(self):\n",
    "        print(\"this is my pyton n class syllabus\")"
   ]
  },
  {
   "cell_type": "code",
   "execution_count": 71,
   "metadata": {},
   "outputs": [],
   "source": [
    "p= python()"
   ]
  },
  {
   "cell_type": "code",
   "execution_count": 70,
   "metadata": {},
   "outputs": [],
   "source": [
    "class oops:\n",
    "    def syllabus(self):\n",
    "        print(\"this is my oop class syllabus\")"
   ]
  },
  {
   "cell_type": "code",
   "execution_count": 72,
   "metadata": {},
   "outputs": [],
   "source": [
    "o= oops()"
   ]
  },
  {
   "cell_type": "code",
   "execution_count": 74,
   "metadata": {},
   "outputs": [],
   "source": [
    "def  parcer(class_obj):\n",
    "\n",
    "    for i in class_obj:\n",
    "        i.syllabus()\n"
   ]
  },
  {
   "cell_type": "code",
   "execution_count": 75,
   "metadata": {},
   "outputs": [],
   "source": [
    "class_obj = [p,o]"
   ]
  },
  {
   "cell_type": "code",
   "execution_count": 76,
   "metadata": {},
   "outputs": [
    {
     "name": "stdout",
     "output_type": "stream",
     "text": [
      "this is my pyton n class syllabus\n",
      "this is my oop class syllabus\n"
     ]
    }
   ],
   "source": [
    "parcer(class_obj)"
   ]
  },
  {
   "cell_type": "code",
   "execution_count": null,
   "metadata": {},
   "outputs": [],
   "source": []
  },
  {
   "cell_type": "code",
   "execution_count": null,
   "metadata": {},
   "outputs": [],
   "source": []
  }
 ],
 "metadata": {
  "kernelspec": {
   "display_name": "base",
   "language": "python",
   "name": "python3"
  },
  "language_info": {
   "codemirror_mode": {
    "name": "ipython",
    "version": 3
   },
   "file_extension": ".py",
   "mimetype": "text/x-python",
   "name": "python",
   "nbconvert_exporter": "python",
   "pygments_lexer": "ipython3",
   "version": "3.11.6"
  }
 },
 "nbformat": 4,
 "nbformat_minor": 2
}
