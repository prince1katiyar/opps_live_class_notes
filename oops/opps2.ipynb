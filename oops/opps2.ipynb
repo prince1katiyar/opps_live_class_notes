{
 "cells": [
  {
   "cell_type": "code",
   "execution_count": null,
   "metadata": {},
   "outputs": [],
   "source": []
  },
  {
   "cell_type": "markdown",
   "metadata": {},
   "source": [
    "# Abstraction and decorater "
   ]
  },
  {
   "cell_type": "code",
   "execution_count": null,
   "metadata": {},
   "outputs": [],
   "source": [
    "# what is abstraction \n",
    "# why we need to use abstraction\n",
    "# where to use the abstraction \n",
    "# how to use the abstraction\n",
    "# what is decorater in python\n",
    "# where we are using decorater \n",
    "# how to use the decorater\n",
    "# property decorater in python "
   ]
  },
  {
   "cell_type": "code",
   "execution_count": null,
   "metadata": {},
   "outputs": [],
   "source": [
    "from abc  import ABC, abstractmethod\n",
    "\n",
    "class shape(ABC):\n",
    "\n",
    "\n",
    "    def database(self):\n",
    "        pass\n",
    " \n",
    "\n",
    "    @abstractmethod\n",
    "    def display(self):\n",
    "        pass\n",
    "\n"
   ]
  },
  {
   "cell_type": "code",
   "execution_count": null,
   "metadata": {},
   "outputs": [],
   "source": [
    "import abc \n",
    "class ineuron:\n",
    "\n",
    "\n",
    "    @abc.abstractmethod\n",
    "    def student(self):\n",
    "        pass\n",
    "    "
   ]
  },
  {
   "cell_type": "code",
   "execution_count": 2,
   "metadata": {},
   "outputs": [],
   "source": [
    "import abc \n",
    "class ineuron:\n",
    "\n",
    "\n",
    "    @abc.abstractmethod\n",
    "    def student(self):\n",
    "        pass\n",
    "\n",
    "    @abc.abstractmethod\n",
    "    def student_marks(self):\n",
    "        pass \n",
    "\n",
    "    @abc.abstractmethod\n",
    "    def student_details(self):\n",
    "        pass"
   ]
  },
  {
   "cell_type": "code",
   "execution_count": 3,
   "metadata": {},
   "outputs": [],
   "source": [
    "p = ineuron()"
   ]
  },
  {
   "cell_type": "code",
   "execution_count": 5,
   "metadata": {},
   "outputs": [],
   "source": [
    "class student_details(ineuron):\n",
    "    def student_details(self):\n",
    "        return \"this is my student details realtedc work \"\n",
    "    \n",
    "    def student_marks(self):\n",
    "        return \"this is my student marks related work\"\n",
    "    \n",
    "    def student(self):\n",
    "        return \"this is my student related work\"\n"
   ]
  },
  {
   "cell_type": "code",
   "execution_count": null,
   "metadata": {},
   "outputs": [],
   "source": []
  },
  {
   "cell_type": "code",
   "execution_count": null,
   "metadata": {},
   "outputs": [],
   "source": [
    "# struture of project \n",
    "\n",
    "# hide the implementation"
   ]
  },
  {
   "cell_type": "code",
   "execution_count": 33,
   "metadata": {},
   "outputs": [],
   "source": [
    "from abc import ABC , abstractmethod\n",
    "\n",
    "class person(ABC):\n",
    "\n",
    "    def __init__(self,name ,age):\n",
    "        self.name = name\n",
    "        self.age = age\n",
    "\n",
    "\n",
    "    def display_info(self):\n",
    "        print(self.name)\n",
    "        print(self.age)\n",
    "\n",
    "    @abstractmethod\n",
    "    def work(self):\n",
    "        pass \n",
    "\n",
    "    @abstractmethod\n",
    "    def speak(self):\n",
    "        pass\n"
   ]
  },
  {
   "cell_type": "code",
   "execution_count": 40,
   "metadata": {},
   "outputs": [],
   "source": [
    "class Employee(person):\n",
    "\n",
    "    def trial(self):\n",
    "        print(\"this is for trail baseis \")\n",
    "\n",
    "    \n",
    "    def speak(self):\n",
    "        print(\"this is for speak basis \")\n",
    "\n",
    "    def work(self):\n",
    "        print(\"thsi is for work bais \")\n",
    "    \n",
    "    "
   ]
  },
  {
   "cell_type": "code",
   "execution_count": null,
   "metadata": {},
   "outputs": [],
   "source": []
  },
  {
   "cell_type": "code",
   "execution_count": 41,
   "metadata": {},
   "outputs": [],
   "source": [
    "e = Employee(\"kush\",25)"
   ]
  },
  {
   "cell_type": "code",
   "execution_count": null,
   "metadata": {},
   "outputs": [],
   "source": []
  },
  {
   "cell_type": "code",
   "execution_count": null,
   "metadata": {},
   "outputs": [],
   "source": []
  },
  {
   "cell_type": "code",
   "execution_count": 42,
   "metadata": {},
   "outputs": [
    {
     "ename": "TypeError",
     "evalue": "Can't instantiate abstract class person with abstract methods speak, work",
     "output_type": "error",
     "traceback": [
      "\u001b[0;31m---------------------------------------------------------------------------\u001b[0m",
      "\u001b[0;31mTypeError\u001b[0m                                 Traceback (most recent call last)",
      "Cell \u001b[0;32mIn[42], line 1\u001b[0m\n\u001b[0;32m----> 1\u001b[0m p \u001b[38;5;241m=\u001b[39m person(\u001b[38;5;124m\"\u001b[39m\u001b[38;5;124msudh\u001b[39m\u001b[38;5;124m\"\u001b[39m , \u001b[38;5;241m34\u001b[39m)\n",
      "\u001b[0;31mTypeError\u001b[0m: Can't instantiate abstract class person with abstract methods speak, work"
     ]
    }
   ],
   "source": [
    "p = person(\"sudh\" , 34)\n"
   ]
  },
  {
   "cell_type": "code",
   "execution_count": null,
   "metadata": {},
   "outputs": [],
   "source": []
  },
  {
   "cell_type": "markdown",
   "metadata": {},
   "source": [
    "# decoraters"
   ]
  },
  {
   "cell_type": "code",
   "execution_count": 57,
   "metadata": {},
   "outputs": [
    {
     "name": "stdout",
     "output_type": "stream",
     "text": [
      "******\n",
      "hello world\n",
      "&&&&&&\n"
     ]
    }
   ],
   "source": [
    "def mydeco(func):\n",
    "    def inner():\n",
    "        print(\"******\")\n",
    "        func()\n",
    "        print(\"&&&&&&\")\n",
    "\n",
    "    return inner \n",
    "\n",
    "\n",
    "def hello():\n",
    "    print(\"hello world\")  \n",
    "\n",
    "\n",
    "a=mydeco(hello)\n",
    "a()\n"
   ]
  },
  {
   "cell_type": "code",
   "execution_count": 58,
   "metadata": {},
   "outputs": [],
   "source": [
    "def hello():\n",
    "    print(\"hello world\")      #  ****** , &&&& "
   ]
  },
  {
   "cell_type": "code",
   "execution_count": 46,
   "metadata": {},
   "outputs": [
    {
     "name": "stdout",
     "output_type": "stream",
     "text": [
      "hello world\n"
     ]
    }
   ],
   "source": [
    "hello()"
   ]
  },
  {
   "cell_type": "code",
   "execution_count": 61,
   "metadata": {},
   "outputs": [
    {
     "name": "stdout",
     "output_type": "stream",
     "text": [
      "******\n",
      "hello world\n",
      "&&&&&&\n"
     ]
    }
   ],
   "source": [
    "def yourdeco(func):\n",
    "    def inner():\n",
    "        print(\"******\")\n",
    "        func()\n",
    "        print(\"&&&&&&\")\n",
    "\n",
    "    return inner \n",
    "\n",
    "\n",
    "\n",
    "@mydeco\n",
    "def hello():\n",
    "    print(\"hello world\")  \n",
    "\n",
    "hello()\n",
    "\n"
   ]
  },
  {
   "cell_type": "code",
   "execution_count": 62,
   "metadata": {},
   "outputs": [
    {
     "name": "stdout",
     "output_type": "stream",
     "text": [
      "******\n",
      "hello world\n",
      "&&&&&&\n"
     ]
    }
   ],
   "source": [
    "@yourdeco\n",
    "def hello1():\n",
    "    print(\"this is my second hello world\")\n",
    "\n",
    "hello()"
   ]
  },
  {
   "cell_type": "code",
   "execution_count": null,
   "metadata": {},
   "outputs": [],
   "source": []
  },
  {
   "cell_type": "code",
   "execution_count": 69,
   "metadata": {},
   "outputs": [],
   "source": [
    "import time \n",
    "\n",
    "def timer_func(func):\n",
    "\n",
    "    def time_test_inner():\n",
    "        start = time.time()\n",
    "        func()\n",
    "        end= time.time()\n",
    "        print(end-start)\n",
    "    \n",
    "    return time_test_inner"
   ]
  },
  {
   "cell_type": "code",
   "execution_count": 70,
   "metadata": {},
   "outputs": [
    {
     "name": "stdout",
     "output_type": "stream",
     "text": [
      "68\n",
      "2.9802322387695312e-05\n"
     ]
    }
   ],
   "source": [
    "@timer_func\n",
    "def test2():\n",
    "    print(23+ 45)\n",
    "\n",
    "test2()"
   ]
  },
  {
   "cell_type": "code",
   "execution_count": 74,
   "metadata": {},
   "outputs": [],
   "source": [
    "def sqaure_deco(func):\n",
    "    def wrapper(*args):\n",
    "        result = func(*args)\n",
    "        return result **2\n",
    "        \n",
    "    return wrapper "
   ]
  },
  {
   "cell_type": "code",
   "execution_count": 75,
   "metadata": {},
   "outputs": [
    {
     "data": {
      "text/plain": [
       "9"
      ]
     },
     "execution_count": 75,
     "metadata": {},
     "output_type": "execute_result"
    }
   ],
   "source": [
    "@sqaure_deco\n",
    "def square(x):\n",
    "    return x \n",
    "\n",
    "square(3)"
   ]
  },
  {
   "cell_type": "markdown",
   "metadata": {},
   "source": [
    "# property decorater "
   ]
  },
  {
   "cell_type": "code",
   "execution_count": 85,
   "metadata": {},
   "outputs": [],
   "source": [
    "class ineuron:\n",
    "    def __init__(self,course_name , course_price):\n",
    "        self.__course_name = course_name\n",
    "        self.course_price = course_price\n",
    "\n",
    "    @property\n",
    "    def course_name(self):\n",
    "        return self.__course_name\n",
    "\n",
    "\n",
    "\n",
    "\n"
   ]
  },
  {
   "cell_type": "code",
   "execution_count": 86,
   "metadata": {},
   "outputs": [
    {
     "data": {
      "text/plain": [
       "'data science'"
      ]
     },
     "execution_count": 86,
     "metadata": {},
     "output_type": "execute_result"
    }
   ],
   "source": [
    "n= ineuron(\"data science\",3600)\n",
    "n.course_name"
   ]
  },
  {
   "cell_type": "code",
   "execution_count": null,
   "metadata": {},
   "outputs": [],
   "source": []
  },
  {
   "cell_type": "code",
   "execution_count": 98,
   "metadata": {},
   "outputs": [],
   "source": [
    "class ineuron:\n",
    "        def __init__(self, course_pirce , course_name ):\n",
    "            self.__course_price = course_pirce\n",
    "            self.course_name = course_name\n",
    "\n",
    "        @property\n",
    "        def course_price_access(self):\n",
    "             return self.__course_price\n",
    "\n",
    "\n",
    "\n",
    "\n",
    "        @course_price_access.setter\n",
    "        def course_price_access(self,price):\n",
    "            if price < 0:\n",
    "                pass\n",
    "            else:\n",
    "                self.__course_price = price\n",
    "       \n",
    "\n",
    "        @course_price_access.deleter\n",
    "        def del_price_access(self):\n",
    "            del self.__course_price\n",
    "\n"
   ]
  },
  {
   "cell_type": "code",
   "execution_count": 99,
   "metadata": {},
   "outputs": [],
   "source": [
    "n= ineuron(\"data science\",3600)\n",
    "n.course_name = 32332"
   ]
  },
  {
   "cell_type": "code",
   "execution_count": 100,
   "metadata": {},
   "outputs": [
    {
     "data": {
      "text/plain": [
       "32332"
      ]
     },
     "execution_count": 100,
     "metadata": {},
     "output_type": "execute_result"
    }
   ],
   "source": [
    "n.course_name"
   ]
  },
  {
   "cell_type": "code",
   "execution_count": 101,
   "metadata": {},
   "outputs": [],
   "source": [
    "del n.del_price_access"
   ]
  },
  {
   "cell_type": "code",
   "execution_count": 102,
   "metadata": {},
   "outputs": [
    {
     "ename": "AttributeError",
     "evalue": "'ineuron' object has no attribute '__course_price'",
     "output_type": "error",
     "traceback": [
      "\u001b[0;31m---------------------------------------------------------------------------\u001b[0m",
      "\u001b[0;31mAttributeError\u001b[0m                            Traceback (most recent call last)",
      "Cell \u001b[0;32mIn[102], line 1\u001b[0m\n\u001b[0;32m----> 1\u001b[0m n\u001b[38;5;241m.\u001b[39m__course_price\n",
      "\u001b[0;31mAttributeError\u001b[0m: 'ineuron' object has no attribute '__course_price'"
     ]
    }
   ],
   "source": [
    "n.__course_price"
   ]
  },
  {
   "cell_type": "code",
   "execution_count": null,
   "metadata": {},
   "outputs": [],
   "source": []
  }
 ],
 "metadata": {
  "kernelspec": {
   "display_name": "base",
   "language": "python",
   "name": "python3"
  },
  "language_info": {
   "codemirror_mode": {
    "name": "ipython",
    "version": 3
   },
   "file_extension": ".py",
   "mimetype": "text/x-python",
   "name": "python",
   "nbconvert_exporter": "python",
   "pygments_lexer": "ipython3",
   "version": "3.11.6"
  }
 },
 "nbformat": 4,
 "nbformat_minor": 2
}
